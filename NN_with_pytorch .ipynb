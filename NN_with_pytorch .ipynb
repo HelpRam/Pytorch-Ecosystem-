{
 "cells": [
  {
   "cell_type": "markdown",
   "metadata": {},
   "source": [
    "## Pytorch Ecosystem for Training Neural Netwrok"
   ]
  },
  {
   "cell_type": "code",
   "execution_count": 112,
   "metadata": {},
   "outputs": [
    {
     "name": "stderr",
     "output_type": "stream",
     "text": [
      "ERROR: Could not find a version that satisfies the requirement torch (from versions: none)\n",
      "ERROR: No matching distribution found for torch\n"
     ]
    },
    {
     "name": "stdout",
     "output_type": "stream",
     "text": [
      "Collecting tqdm\n",
      "  Using cached tqdm-4.66.4-py3-none-any.whl.metadata (57 kB)\n",
      "Collecting matplotlib\n",
      "  Using cached matplotlib-3.9.0.tar.gz (36.1 MB)\n",
      "  Installing build dependencies: started\n",
      "  Installing build dependencies: finished with status 'done'\n",
      "  Getting requirements to build wheel: started\n",
      "  Getting requirements to build wheel: finished with status 'done'\n",
      "  Installing backend dependencies: started\n",
      "  Installing backend dependencies: finished with status 'done'\n",
      "  Preparing metadata (pyproject.toml): started\n",
      "  Preparing metadata (pyproject.toml): finished with status 'error'\n"
     ]
    },
    {
     "name": "stderr",
     "output_type": "stream",
     "text": [
      "  error: subprocess-exited-with-error\n",
      "  \n",
      "  × Preparing metadata (pyproject.toml) did not run successfully.\n",
      "  │ exit code: 1\n",
      "  ╰─> [22 lines of output]\n",
      "      + meson setup C:\\Users\\ramme\\AppData\\Local\\Temp\\pip-install-jgecxta2\\matplotlib_088ea40fce2a4ebb96068bdba58fd9ea C:\\Users\\ramme\\AppData\\Local\\Temp\\pip-install-jgecxta2\\matplotlib_088ea40fce2a4ebb96068bdba58fd9ea\\.mesonpy-d8m62sdr -Dbuildtype=release -Db_ndebug=if-release -Db_vscrt=md --native-file=C:\\Users\\ramme\\AppData\\Local\\Temp\\pip-install-jgecxta2\\matplotlib_088ea40fce2a4ebb96068bdba58fd9ea\\.mesonpy-d8m62sdr\\meson-python-native-file.ini\n",
      "      The Meson build system\n",
      "      Version: 1.4.1\n",
      "      Source dir: C:\\Users\\ramme\\AppData\\Local\\Temp\\pip-install-jgecxta2\\matplotlib_088ea40fce2a4ebb96068bdba58fd9ea\n",
      "      Build dir: C:\\Users\\ramme\\AppData\\Local\\Temp\\pip-install-jgecxta2\\matplotlib_088ea40fce2a4ebb96068bdba58fd9ea\\.mesonpy-d8m62sdr\n",
      "      Build type: native build\n",
      "      Program python3 found: YES\n",
      "      Project name: matplotlib\n",
      "      Project version: 3.9.0\n",
      "      WARNING: Failed to activate VS environment: Could not parse vswhere.exe output\n",
      "      \n",
      "      ..\\meson.build:1:0: ERROR: Unknown compiler(s): [['icl'], ['cl'], ['cc'], ['gcc'], ['clang'], ['clang-cl'], ['pgcc']]\n",
      "      The following exception(s) were encountered:\n",
      "      Running `icl \"\"` gave \"[WinError 2] The system cannot find the file specified\"\n",
      "      Running `cl /?` gave \"[WinError 2] The system cannot find the file specified\"\n",
      "      Running `cc --version` gave \"[WinError 2] The system cannot find the file specified\"\n",
      "      Running `gcc --version` gave \"[WinError 2] The system cannot find the file specified\"\n",
      "      Running `clang --version` gave \"[WinError 2] The system cannot find the file specified\"\n",
      "      Running `clang-cl /?` gave \"[WinError 2] The system cannot find the file specified\"\n",
      "      Running `pgcc --version` gave \"[WinError 2] The system cannot find the file specified\"\n",
      "      \n",
      "      A full log can be found at C:\\Users\\ramme\\AppData\\Local\\Temp\\pip-install-jgecxta2\\matplotlib_088ea40fce2a4ebb96068bdba58fd9ea\\.mesonpy-d8m62sdr\\meson-logs\\meson-log.txt\n",
      "      [end of output]\n",
      "  \n",
      "  note: This error originates from a subprocess, and is likely not a problem with pip.\n",
      "error: metadata-generation-failed\n",
      "\n",
      "× Encountered error while generating package metadata.\n",
      "╰─> See above for output.\n",
      "\n",
      "note: This is an issue with the package mentioned above, not pip.\n",
      "hint: See above for details.\n"
     ]
    }
   ],
   "source": [
    "# cell 1\n",
    "# Install dependencies\n",
    "!pip install torch torchvision\n",
    "!pip install tqdm matplotlib numpy"
   ]
  },
  {
   "cell_type": "code",
   "execution_count": 113,
   "metadata": {},
   "outputs": [],
   "source": [
    "# cell 2\n",
    "# Import Libraries\n",
    "import torch\n",
    "import torch.nn as nn\n",
    "import torch.optim as optim\n",
    "import torch.nn.functional as F\n",
    "import matplotlib.pyplot as plt\n",
    "import numpy as np"
   ]
  },
  {
   "cell_type": "markdown",
   "metadata": {},
   "source": [
    "### Single Layer Perceptron\n",
    "* We will be using single Perceptron Neuron for simulating the behaviour of different basic logic gates.\n",
    "* In pytorch while defining model architecture, the model class must inherit the parent class nn.Module. \n",
    "* The model class must at least contains two methods viz. __init__() method in which we define all the layers and forward() method in which we pass the data and operates on data."
   ]
  },
  {
   "cell_type": "code",
   "execution_count": 114,
   "metadata": {},
   "outputs": [],
   "source": [
    "# cell 3\n",
    "# Perceptron architecture\n",
    "class Perceptron(nn.Module):\n",
    "    def __init__(self, input_dim):\n",
    "        super(Perceptron, self).__init__()\n",
    "        self.fc = nn.Linear(input_dim, 1)\n",
    "    \n",
    "    def forward(self, x):\n",
    "        x = self.fc(x)\n",
    "        x = torch.sigmoid(x)\n",
    "        return x"
   ]
  },
  {
   "cell_type": "markdown",
   "metadata": {},
   "source": [
    "### Training Loop\n",
    "* In native pytorch, we have to write our own training loop.\n",
    "* First set the model to train mode that ensures gradients are computed and propagated.\n",
    "* Then we have to set optimizer to zero_grad() at the beginning of every epoch otherwise the gradient will get accumulated from previous epochs.\n",
    "* Then, we get the outputs for inputs from model and calculate loss.\n",
    "* The loss is then used to calculate gradients for backward propagation.\n",
    "* Then, weights are updated."
   ]
  },
  {
   "cell_type": "code",
   "execution_count": 115,
   "metadata": {},
   "outputs": [],
   "source": [
    "# cell 4\n",
    "# Training loop\n",
    "def train_perceptron(model, criterion, optimizer, data, targets, epochs=100):\n",
    "    for epoch in range(epochs):\n",
    "        model.train()\n",
    "        \n",
    "        optimizer.zero_grad()\n",
    "        \n",
    "        # Forward pass\n",
    "        outputs = model(data)\n",
    "        loss = criterion(outputs, targets)\n",
    "        \n",
    "        # Backward pass\n",
    "        loss.backward()\n",
    "        \n",
    "        # Optimization step: update weights\n",
    "        optimizer.step()\n",
    "        \n",
    "        if (epoch+1) % 10 == 0:\n",
    "            print(f'Epoch [{epoch+1}/{epochs}], Loss: {loss.item():.4f}')"
   ]
  },
  {
   "cell_type": "markdown",
   "metadata": {},
   "source": [
    "### Prediction from Trained Model\n",
    "* Before we make prediction from model, we have to set model to eval model so that gradients will not be computed and stored. It will also make inferencing faster."
   ]
  },
  {
   "cell_type": "code",
   "execution_count": 116,
   "metadata": {},
   "outputs": [],
   "source": [
    "# cell 5\n",
    "# Predict outputs\n",
    "def test_perceptron(model, data):\n",
    "    model.eval()\n",
    "    with torch.no_grad():\n",
    "        outputs = model(data)\n",
    "        predicted = outputs.round().squeeze()\n",
    "        return predicted"
   ]
  },
  {
   "cell_type": "code",
   "execution_count": 117,
   "metadata": {},
   "outputs": [],
   "source": [
    "# cell 6\n",
    "# Sample data (AND logic gate)\n",
    "data = torch.tensor([[0, 0], [0, 1], [1, 0], [1, 1]], dtype=torch.float32)\n",
    "targets = torch.tensor([[0], [0], [0], [1]], dtype=torch.float32)"
   ]
  },
  {
   "cell_type": "markdown",
   "metadata": {},
   "source": [
    "### Visualization of AND Gate Data"
   ]
  },
  {
   "cell_type": "code",
   "execution_count": 118,
   "metadata": {},
   "outputs": [
    {
     "data": {
      "image/png": "[encoded data removed]",
      "text/plain": [
       "<Figure size 800x600 with 1 Axes>"
      ]
     },
     "metadata": {},
     "output_type": "display_data"
    }
   ],
   "source": [
    "# cell 7\n",
    "# Scatter plot for AND gate data\n",
    "plt.figure(figsize=(8, 6))\n",
    "\n",
    "for i in range(data.shape[0]):\n",
    "    if targets[i] == 0:\n",
    "        plt.scatter(data[i, 0].item(), data[i, 1].item(), color='red', marker='o', label='0' if i == 0 else \"\")\n",
    "    else:\n",
    "        plt.scatter(data[i, 0].item(), data[i, 1].item(), color='blue', marker='x', label='1' if i == 3 else \"\")\n",
    "\n",
    "plt.title('AND Gate Data Plot')\n",
    "plt.xlabel('Input 1')\n",
    "plt.ylabel('Input 2')\n",
    "plt.legend()\n",
    "plt.grid(True)\n",
    "plt.show()"
   ]
  },
  {
   "cell_type": "code",
   "execution_count": 119,
   "metadata": {},
   "outputs": [],
   "source": [
    "# cell 8\n",
    "# Instantiate the perceptron model\n",
    "input_dim = data.shape[1]  # number of input features\n",
    "perceptron = Perceptron(input_dim)\n",
    "\n",
    "# Define loss and optimizer\n",
    "criterion = nn.BCELoss()\n",
    "optimizer = optim.SGD(perceptron.parameters(), lr=0.1)"
   ]
  },
  {
   "cell_type": "code",
   "execution_count": 120,
   "metadata": {},
   "outputs": [
    {
     "name": "stdout",
     "output_type": "stream",
     "text": [
      "Epoch [10/300], Loss: 0.7934\n",
      "Epoch [20/300], Loss: 0.7329\n",
      "Epoch [30/300], Loss: 0.6905\n",
      "Epoch [40/300], Loss: 0.6574\n",
      "Epoch [50/300], Loss: 0.6295\n",
      "Epoch [60/300], Loss: 0.6049\n",
      "Epoch [70/300], Loss: 0.5825\n",
      "Epoch [80/300], Loss: 0.5620\n",
      "Epoch [90/300], Loss: 0.5430\n",
      "Epoch [100/300], Loss: 0.5253\n",
      "Epoch [110/300], Loss: 0.5088\n",
      "Epoch [120/300], Loss: 0.4934\n",
      "Epoch [130/300], Loss: 0.4789\n",
      "Epoch [140/300], Loss: 0.4654\n",
      "Epoch [150/300], Loss: 0.4526\n",
      "Epoch [160/300], Loss: 0.4406\n",
      "Epoch [170/300], Loss: 0.4292\n",
      "Epoch [180/300], Loss: 0.4185\n",
      "Epoch [190/300], Loss: 0.4084\n",
      "Epoch [200/300], Loss: 0.3988\n",
      "Epoch [210/300], Loss: 0.3897\n",
      "Epoch [220/300], Loss: 0.3810\n",
      "Epoch [230/300], Loss: 0.3728\n",
      "Epoch [240/300], Loss: 0.3650\n",
      "Epoch [250/300], Loss: 0.3575\n",
      "Epoch [260/300], Loss: 0.3504\n",
      "Epoch [270/300], Loss: 0.3435\n",
      "Epoch [280/300], Loss: 0.3370\n",
      "Epoch [290/300], Loss: 0.3307\n",
      "Epoch [300/300], Loss: 0.3247\n"
     ]
    }
   ],
   "source": [
    "# cell 9\n",
    "train_perceptron(perceptron, criterion, optimizer, data, targets, epochs=300)"
   ]
  },
  {
   "cell_type": "code",
   "execution_count": 121,
   "metadata": {},
   "outputs": [
    {
     "name": "stdout",
     "output_type": "stream",
     "text": [
      "Predicted: [0. 0. 0. 1.]\n",
      "Targets: [0. 0. 0. 1.]\n"
     ]
    }
   ],
   "source": [
    "# cell 10\n",
    "# Predict outputs\n",
    "predicted = test_perceptron(perceptron, data)\n",
    "print(f'Predicted: {predicted.numpy()}')\n",
    "print(f'Targets: {targets.squeeze().numpy()}')"
   ]
  },
  {
   "cell_type": "markdown",
   "metadata": {},
   "source": [
    "### Visualization of Decision Boundary Learnt By Perceptron"
   ]
  },
  {
   "cell_type": "code",
   "execution_count": 122,
   "metadata": {},
   "outputs": [
    {
     "data": {
      "image/png": "[encoded data removed]",
      "text/plain": [
       "<Figure size 800x600 with 1 Axes>"
      ]
     },
     "metadata": {},
     "output_type": "display_data"
    }
   ],
   "source": [
    "# cell 11\n",
    "plt.figure(figsize=(8, 6))\n",
    "\n",
    "# Scatter plot for AND gate data\n",
    "for i in range(data.shape[0]):\n",
    "    if targets[i] == 0:\n",
    "        plt.scatter(data[i, 0].item(), data[i, 1].item(), color='red', marker='o', label='0' if i == 0 else \"\")\n",
    "    else:\n",
    "        plt.scatter(data[i, 0].item(), data[i, 1].item(), color='blue', marker='x', label='1' if i == 3 else \"\")\n",
    "        \n",
    "# Generate a grid of points\n",
    "x_min, x_max = data[:, 0].min() - 0.5, data[:, 0].max() + 0.5\n",
    "y_min, y_max = data[:, 1].min() - 0.5, data[:, 1].max() + 0.5\n",
    "xx, yy = np.meshgrid(np.arange(x_min, x_max, 0.01), np.arange(y_min, y_max, 0.01))\n",
    "grid = torch.tensor(np.c_[xx.ravel(), yy.ravel()], dtype=torch.float32)\n",
    "\n",
    "# Predict outputs for the grid points\n",
    "with torch.no_grad():\n",
    "    zz = perceptron(grid).reshape(xx.shape)\n",
    "\n",
    "# Plot the decision boundary\n",
    "plt.contourf(xx, yy, zz, levels=[0, 0.5, 1], alpha=0.2, colors=['red', 'blue'])\n",
    "\n",
    "plt.title('AND Gate Data with Decision Boundary')\n",
    "plt.xlabel('Input 1')\n",
    "plt.ylabel('Input 2')\n",
    "plt.legend()\n",
    "plt.grid(True)\n",
    "plt.show()"
   ]
  },
  {
   "cell_type": "markdown",
   "metadata": {},
   "source": [
    "### How it performs for XOR Gate?"
   ]
  },
  {
   "cell_type": "code",
   "execution_count": 123,
   "metadata": {},
   "outputs": [],
   "source": [
    "# cell 12\n",
    "# Sample data (XOR logic gate)\n",
    "# Your code here\n",
    "xor_data = torch.tensor([[0,0],[0,1],[1,0],[1,1]], dtype=torch.float32)\n",
    "xor_targets = torch.tensor([[0],[1],[1],[0]], dtype=torch.float32)"
   ]
  },
  {
   "cell_type": "markdown",
   "metadata": {},
   "source": [
    "### Visualization of XOR Gate Data"
   ]
  },
  {
   "cell_type": "code",
   "execution_count": 124,
   "metadata": {},
   "outputs": [
    {
     "data": {
      "image/png": "[encoded data removed]",
      "text/plain": [
       "<Figure size 800x600 with 1 Axes>"
      ]
     },
     "metadata": {},
     "output_type": "display_data"
    }
   ],
   "source": [
    "# cell 13\n",
    "plt.figure(figsize=(8, 6))\n",
    "\n",
    "# Scatter plot for XOR gate data\n",
    "for i in range(xor_data.shape[0]):\n",
    "    if xor_targets[i] == 0:\n",
    "        plt.scatter(xor_data[i, 0].item(), data[i, 1].item(), color='red', marker='o', label='0' if i == 0 else \"\")\n",
    "    else:\n",
    "        plt.scatter(xor_data[i, 0].item(), data[i, 1].item(), color='blue', marker='x', label='1' if i == 1 else \"\")\n",
    "\n",
    "plt.title('XOR Gate Data Visualization')\n",
    "plt.xlabel('Input 1')\n",
    "plt.ylabel('Input 2')\n",
    "plt.legend()\n",
    "plt.grid(True)\n",
    "plt.show()\n"
   ]
  },
  {
   "cell_type": "markdown",
   "metadata": {},
   "source": [
    "Training Single Perceptron Neuron for XOR Gate"
   ]
  },
  {
   "cell_type": "code",
   "execution_count": 125,
   "metadata": {},
   "outputs": [
    {
     "name": "stdout",
     "output_type": "stream",
     "text": [
      "Epoch [10/300], Loss: 0.8562\n",
      "Epoch [20/300], Loss: 0.8346\n",
      "Epoch [30/300], Loss: 0.8201\n",
      "Epoch [40/300], Loss: 0.8094\n",
      "Epoch [50/300], Loss: 0.8007\n",
      "Epoch [60/300], Loss: 0.7932\n",
      "Epoch [70/300], Loss: 0.7865\n",
      "Epoch [80/300], Loss: 0.7804\n",
      "Epoch [90/300], Loss: 0.7747\n",
      "Epoch [100/300], Loss: 0.7694\n",
      "Epoch [110/300], Loss: 0.7644\n",
      "Epoch [120/300], Loss: 0.7597\n",
      "Epoch [130/300], Loss: 0.7552\n",
      "Epoch [140/300], Loss: 0.7511\n",
      "Epoch [150/300], Loss: 0.7471\n",
      "Epoch [160/300], Loss: 0.7435\n",
      "Epoch [170/300], Loss: 0.7400\n",
      "Epoch [180/300], Loss: 0.7368\n",
      "Epoch [190/300], Loss: 0.7337\n",
      "Epoch [200/300], Loss: 0.7309\n",
      "Epoch [210/300], Loss: 0.7282\n",
      "Epoch [220/300], Loss: 0.7258\n",
      "Epoch [230/300], Loss: 0.7235\n",
      "Epoch [240/300], Loss: 0.7213\n",
      "Epoch [250/300], Loss: 0.7193\n",
      "Epoch [260/300], Loss: 0.7174\n",
      "Epoch [270/300], Loss: 0.7156\n",
      "Epoch [280/300], Loss: 0.7140\n",
      "Epoch [290/300], Loss: 0.7125\n",
      "Epoch [300/300], Loss: 0.7111\n"
     ]
    }
   ],
   "source": [
    "# cell 14\n",
    "train_perceptron(perceptron, criterion, optimizer, xor_data, xor_targets, epochs=300)"
   ]
  },
  {
   "cell_type": "code",
   "execution_count": 126,
   "metadata": {},
   "outputs": [
    {
     "name": "stdout",
     "output_type": "stream",
     "text": [
      "Predicted: [0. 0. 0. 1.]\n",
      "Targets: [0. 1. 1. 0.]\n"
     ]
    }
   ],
   "source": [
    "# cell 15\n",
    "# Predicting outputs for XOR Gate\n",
    "predicted = test_perceptron(perceptron, xor_data)\n",
    "print(f'Predicted: {predicted.numpy()}')\n",
    "print(f'Targets: {xor_targets.squeeze().numpy()}')"
   ]
  },
  {
   "cell_type": "markdown",
   "metadata": {},
   "source": [
    "### Visualization of Decision Boundary Learnt by Sinlge Perceptron Neuron for XOR Gate"
   ]
  },
  {
   "cell_type": "code",
   "execution_count": 127,
   "metadata": {},
   "outputs": [
    {
     "data": {
      "image/png": "[encoded data removed]",
      "text/plain": [
       "<Figure size 800x600 with 1 Axes>"
      ]
     },
     "metadata": {},
     "output_type": "display_data"
    }
   ],
   "source": [
    "# cell 16\n",
    "plt.figure(figsize=(8, 6))\n",
    "\n",
    "# Scatter plot for XOR gate data\n",
    "for i in range(xor_data.shape[0]):\n",
    "    if xor_targets[i] == 0:\n",
    "        plt.scatter(xor_data[i, 0].item(), data[i, 1].item(), color='red', marker='o', label='0' if i == 0 else \"\")\n",
    "    else:\n",
    "        plt.scatter(xor_data[i, 0].item(), data[i, 1].item(), color='blue', marker='x', label='1' if i == 1 else \"\")\n",
    "\n",
    "# Generate a grid of points\n",
    "x_min, x_max = data[:, 0].min() - 0.5, data[:, 0].max() + 0.5\n",
    "y_min, y_max = data[:, 1].min() - 0.5, data[:, 1].max() + 0.5\n",
    "xx, yy = np.meshgrid(np.arange(x_min, x_max, 0.01), np.arange(y_min, y_max, 0.01))\n",
    "grid = torch.tensor(np.c_[xx.ravel(), yy.ravel()], dtype=torch.float32)\n",
    "\n",
    "# Predict outputs for the grid points\n",
    "with torch.no_grad():\n",
    "    zz = perceptron(grid).reshape(xx.shape)\n",
    "\n",
    "# Plot the decision boundary\n",
    "plt.contourf(xx, yy, zz, levels=[0, 0.5, 1], alpha=0.2, colors=['red', 'blue'])\n",
    "\n",
    "plt.title('XOR Gate Data with Decision Boundary')\n",
    "plt.xlabel('Input 1')\n",
    "plt.ylabel('Input 2')\n",
    "plt.legend()\n",
    "plt.grid(True)\n",
    "plt.show()\n"
   ]
  },
  {
   "cell_type": "markdown",
   "metadata": {},
   "source": [
    "## MultiLayer Perceptron"
   ]
  },
  {
   "cell_type": "code",
   "execution_count": 128,
   "metadata": {},
   "outputs": [],
   "source": [
    "# cell 17\n",
    "# Your code here\n",
    "\n",
    "class MLP(nn.Module):\n",
    "    def __init__(self, input_dim):\n",
    "        super(MLP, self).__init__()\n",
    "        self.fc1 = nn.Linear(input_dim,3)  # First hidden layer with 2 neurons\n",
    "        self.fc2 = nn.Linear(3,1)          # Output layer with 1 neuron\n",
    "    \n",
    "    def forward(self, x):\n",
    "        x = torch.relu(self.fc1(x))\n",
    "        x = torch.sigmoid(self.fc2(x))\n",
    "        return x"
   ]
  },
  {
   "cell_type": "code",
   "execution_count": 129,
   "metadata": {},
   "outputs": [],
   "source": [
    "# cell 18\n",
    "def train_mlp(model, criterion, optimizer, data, targets, epochs=10000):\n",
    "    for epoch in range(epochs):\n",
    "        model.train()\n",
    "        \n",
    "        optimizer.zero_grad()\n",
    "        \n",
    "        # Forward pass\n",
    "        outputs = model(data)\n",
    "        loss = criterion(outputs, targets)\n",
    "        \n",
    "        # Backward pass and optimization\n",
    "        loss.backward()\n",
    "        optimizer.step()\n",
    "        \n",
    "        if (epoch+1) % 100 == 0:\n",
    "            print(f'Epoch [{epoch+1}/{epochs}], Loss: {loss.item():.4f}')"
   ]
  },
  {
   "cell_type": "code",
   "execution_count": 130,
   "metadata": {},
   "outputs": [],
   "source": [
    "# cell 19\n",
    "# Predict outputs\n",
    "def test_mlp(model, data):\n",
    "    model.eval()\n",
    "    with torch.no_grad():\n",
    "        outputs = model(data)\n",
    "        predicted = outputs.round().squeeze()\n",
    "        return predicted"
   ]
  },
  {
   "cell_type": "code",
   "execution_count": 131,
   "metadata": {},
   "outputs": [],
   "source": [
    "# cell 20\n",
    "# Sample data (XOR logic gate)\n",
    "xor_data = torch.tensor([[0, 0], [0, 1], [1, 0], [1, 1]], dtype=torch.float32)\n",
    "xor_targets = torch.tensor([[0], [1], [1], [0]], dtype=torch.float32)"
   ]
  },
  {
   "cell_type": "code",
   "execution_count": 132,
   "metadata": {},
   "outputs": [],
   "source": [
    "# cell 21\n",
    "# Instantiate the MLP model\n",
    "input_dim = data.shape[1]\n",
    "mlp = MLP(input_dim)\n",
    "\n",
    "# Define loss and optimizer\n",
    "criterion = nn.BCELoss()\n",
    "optimizer = optim.SGD(mlp.parameters(), lr=0.1)"
   ]
  },
  {
   "cell_type": "code",
   "execution_count": 133,
   "metadata": {},
   "outputs": [
    {
     "name": "stdout",
     "output_type": "stream",
     "text": [
      "Epoch [100/10000], Loss: 0.6933\n",
      "Epoch [200/10000], Loss: 0.6933\n",
      "Epoch [300/10000], Loss: 0.6933\n",
      "Epoch [400/10000], Loss: 0.6933\n",
      "Epoch [500/10000], Loss: 0.6932\n",
      "Epoch [600/10000], Loss: 0.6932\n",
      "Epoch [700/10000], Loss: 0.6932\n",
      "Epoch [800/10000], Loss: 0.6932\n",
      "Epoch [900/10000], Loss: 0.6932\n",
      "Epoch [1000/10000], Loss: 0.6932\n",
      "Epoch [1100/10000], Loss: 0.6932\n",
      "Epoch [1200/10000], Loss: 0.6932\n",
      "Epoch [1300/10000], Loss: 0.6932\n",
      "Epoch [1400/10000], Loss: 0.6932\n",
      "Epoch [1500/10000], Loss: 0.6932\n",
      "Epoch [1600/10000], Loss: 0.6932\n",
      "Epoch [1700/10000], Loss: 0.6932\n",
      "Epoch [1800/10000], Loss: 0.6932\n",
      "Epoch [1900/10000], Loss: 0.6932\n",
      "Epoch [2000/10000], Loss: 0.6932\n",
      "Epoch [2100/10000], Loss: 0.6932\n",
      "Epoch [2200/10000], Loss: 0.6932\n",
      "Epoch [2300/10000], Loss: 0.6932\n",
      "Epoch [2400/10000], Loss: 0.6932\n",
      "Epoch [2500/10000], Loss: 0.6932\n",
      "Epoch [2600/10000], Loss: 0.6932\n",
      "Epoch [2700/10000], Loss: 0.6932\n",
      "Epoch [2800/10000], Loss: 0.6932\n",
      "Epoch [2900/10000], Loss: 0.6932\n",
      "Epoch [3000/10000], Loss: 0.6932\n",
      "Epoch [3100/10000], Loss: 0.6932\n",
      "Epoch [3200/10000], Loss: 0.6931\n",
      "Epoch [3300/10000], Loss: 0.6931\n",
      "Epoch [3400/10000], Loss: 0.6931\n",
      "Epoch [3500/10000], Loss: 0.6931\n",
      "Epoch [3600/10000], Loss: 0.6931\n",
      "Epoch [3700/10000], Loss: 0.6931\n",
      "Epoch [3800/10000], Loss: 0.6931\n",
      "Epoch [3900/10000], Loss: 0.6931\n",
      "Epoch [4000/10000], Loss: 0.6931\n",
      "Epoch [4100/10000], Loss: 0.6931\n",
      "Epoch [4200/10000], Loss: 0.6931\n",
      "Epoch [4300/10000], Loss: 0.6931\n",
      "Epoch [4400/10000], Loss: 0.6931\n",
      "Epoch [4500/10000], Loss: 0.6931\n",
      "Epoch [4600/10000], Loss: 0.6931\n",
      "Epoch [4700/10000], Loss: 0.6931\n",
      "Epoch [4800/10000], Loss: 0.6931\n",
      "Epoch [4900/10000], Loss: 0.6931\n",
      "Epoch [5000/10000], Loss: 0.6931\n",
      "Epoch [5100/10000], Loss: 0.6931\n",
      "Epoch [5200/10000], Loss: 0.6931\n",
      "Epoch [5300/10000], Loss: 0.6931\n",
      "Epoch [5400/10000], Loss: 0.6931\n",
      "Epoch [5500/10000], Loss: 0.6931\n",
      "Epoch [5600/10000], Loss: 0.6931\n",
      "Epoch [5700/10000], Loss: 0.6931\n",
      "Epoch [5800/10000], Loss: 0.6931\n",
      "Epoch [5900/10000], Loss: 0.6931\n",
      "Epoch [6000/10000], Loss: 0.6931\n",
      "Epoch [6100/10000], Loss: 0.6931\n",
      "Epoch [6200/10000], Loss: 0.6931\n",
      "Epoch [6300/10000], Loss: 0.6931\n",
      "Epoch [6400/10000], Loss: 0.6931\n",
      "Epoch [6500/10000], Loss: 0.6931\n",
      "Epoch [6600/10000], Loss: 0.6931\n",
      "Epoch [6700/10000], Loss: 0.6931\n",
      "Epoch [6800/10000], Loss: 0.6931\n",
      "Epoch [6900/10000], Loss: 0.6931\n",
      "Epoch [7000/10000], Loss: 0.6931\n",
      "Epoch [7100/10000], Loss: 0.6931\n",
      "Epoch [7200/10000], Loss: 0.6931\n",
      "Epoch [7300/10000], Loss: 0.6931\n",
      "Epoch [7400/10000], Loss: 0.6931\n",
      "Epoch [7500/10000], Loss: 0.6931\n",
      "Epoch [7600/10000], Loss: 0.6931\n",
      "Epoch [7700/10000], Loss: 0.6931\n",
      "Epoch [7800/10000], Loss: 0.6931\n",
      "Epoch [7900/10000], Loss: 0.6931\n",
      "Epoch [8000/10000], Loss: 0.6931\n",
      "Epoch [8100/10000], Loss: 0.6931\n",
      "Epoch [8200/10000], Loss: 0.6931\n",
      "Epoch [8300/10000], Loss: 0.6931\n",
      "Epoch [8400/10000], Loss: 0.6931\n",
      "Epoch [8500/10000], Loss: 0.6931\n",
      "Epoch [8600/10000], Loss: 0.6931\n",
      "Epoch [8700/10000], Loss: 0.6931\n",
      "Epoch [8800/10000], Loss: 0.6931\n",
      "Epoch [8900/10000], Loss: 0.6931\n",
      "Epoch [9000/10000], Loss: 0.6931\n",
      "Epoch [9100/10000], Loss: 0.6931\n",
      "Epoch [9200/10000], Loss: 0.6931\n",
      "Epoch [9300/10000], Loss: 0.6931\n",
      "Epoch [9400/10000], Loss: 0.6931\n",
      "Epoch [9500/10000], Loss: 0.6931\n",
      "Epoch [9600/10000], Loss: 0.6931\n",
      "Epoch [9700/10000], Loss: 0.6931\n",
      "Epoch [9800/10000], Loss: 0.6931\n",
      "Epoch [9900/10000], Loss: 0.6931\n",
      "Epoch [10000/10000], Loss: 0.6931\n"
     ]
    }
   ],
   "source": [
    "# cell 22\n",
    "train_mlp(mlp, criterion, optimizer, xor_data, xor_targets, epochs=10000)"
   ]
  },
  {
   "cell_type": "code",
   "execution_count": 134,
   "metadata": {},
   "outputs": [
    {
     "name": "stdout",
     "output_type": "stream",
     "text": [
      "Predicted: [1. 1. 0. 0.]\n",
      "Targets: [0. 1. 1. 0.]\n"
     ]
    }
   ],
   "source": [
    "# cell 23\n",
    "# Predicting outputs for XOR Gate\n",
    "predicted = test_mlp(mlp, xor_data)\n",
    "print(f'Predicted: {predicted.numpy()}')\n",
    "print(f'Targets: {xor_targets.squeeze().numpy()}')"
   ]
  },
  {
   "cell_type": "markdown",
   "metadata": {},
   "source": [
    "Visualization of Decision Boundary Learnt by MLP for XOR Gate"
   ]
  },
  {
   "cell_type": "code",
   "execution_count": 135,
   "metadata": {},
   "outputs": [
    {
     "data": {
      "image/png": "[encoded data removed]",
      "text/plain": [
       "<Figure size 800x600 with 1 Axes>"
      ]
     },
     "metadata": {},
     "output_type": "display_data"
    }
   ],
   "source": [
    "# cell 24\n",
    "plt.figure(figsize=(8, 6))\n",
    "\n",
    "# Scatter plot for XOR gate data\n",
    "for i in range(xor_data.shape[0]):\n",
    "    if xor_targets[i] == 0:\n",
    "        plt.scatter(xor_data[i, 0].item(), data[i, 1].item(), color='red', marker='o', label='0' if i == 0 else \"\")\n",
    "    else:\n",
    "        plt.scatter(xor_data[i, 0].item(), data[i, 1].item(), color='blue', marker='x', label='1' if i == 1 else \"\")\n",
    "\n",
    "# Generate a grid of points\n",
    "x_min, x_max = xor_data[:, 0].min() - 0.5, data[:, 0].max() + 0.5\n",
    "y_min, y_max = xor_data[:, 1].min() - 0.5, data[:, 1].max() + 0.5\n",
    "xx, yy = np.meshgrid(np.arange(x_min, x_max, 0.01), np.arange(y_min, y_max, 0.01))\n",
    "grid = torch.tensor(np.c_[xx.ravel(), yy.ravel()], dtype=torch.float32)\n",
    "\n",
    "# Predict outputs for the grid points\n",
    "with torch.no_grad():\n",
    "    zz = mlp(grid).reshape(xx.shape)\n",
    "\n",
    "# Plot the decision boundary\n",
    "plt.contourf(xx, yy, zz, levels=[0, 0.5, 1], alpha=0.2, colors=['red', 'blue'])\n",
    "\n",
    "plt.title('XOR Gate Data with Decision Boundary')\n",
    "plt.xlabel('Input 1')\n",
    "plt.ylabel('Input 2')\n",
    "plt.legend()\n",
    "plt.grid(True)\n",
    "plt.show()"
   ]
  },
  {
   "cell_type": "markdown",
   "metadata": {},
   "source": [
    "## MultiLayer Perceptron for FashionMNIST Dataset\n",
    "* Pytorch Model Development Pipeline\n",
    "    * Loading Dataset\n",
    "    * Building DataLoader\n",
    "    * Build Model Architecture\n",
    "    * Prepare Training/Optimization Loop\n",
    "    * Model Training and Evaluation\n",
    "    * Model Saving\n",
    "    * Model Inferencing\n",
    "    * Model Quantization and Conversion\n",
    "\n",
    "* Reference: [here](https://pytorch.org/tutorials/beginner/basics/intro.html)"
   ]
  },
  {
   "cell_type": "code",
   "execution_count": 136,
   "metadata": {},
   "outputs": [],
   "source": [
    "# cell 25\n",
    "import torch\n",
    "# from torch.utils.data import Dataset\n",
    "from torch.utils.data import DataLoader\n",
    "from torchvision import datasets\n",
    "from torchvision.transforms import ToTensor, Lambda\n",
    "import matplotlib.pyplot as plt\n",
    "from tqdm import tqdm"
   ]
  },
  {
   "cell_type": "markdown",
   "metadata": {},
   "source": [
    "### Step 1: Loading Dataset\n",
    "\n",
    "* We will be loading the Fashion-MNIST dataset from TorchVision. \n",
    "* Fashion-MNIST is a dataset of Zalando’s article images consisting of 60,000 training examples and 10,000 test examples. \n",
    "* Each example comprises a 28×28 grayscale image and an associated label from one of 10 classes."
   ]
  },
  {
   "cell_type": "code",
   "execution_count": 137,
   "metadata": {},
   "outputs": [],
   "source": [
    "# cell 26\n",
    "training_data = datasets.FashionMNIST(\n",
    "    root=\"data\",\n",
    "    train=True,\n",
    "    download=True,\n",
    "    transform=ToTensor()\n",
    ")\n",
    "\n",
    "test_data = datasets.FashionMNIST(\n",
    "    root=\"data\",\n",
    "    train=False,\n",
    "    download=True,\n",
    "    transform=ToTensor()\n",
    ")"
   ]
  },
  {
   "cell_type": "code",
   "execution_count": 138,
   "metadata": {},
   "outputs": [
    {
     "name": "stdout",
     "output_type": "stream",
     "text": [
      "Number of training samples: 60000\n",
      "Number of testing samples: 10000\n"
     ]
    }
   ],
   "source": [
    "# cell 27\n",
    "print(f\"Number of training samples: {len(training_data)}\")\n",
    "print(f\"Number of testing samples: {len(test_data)}\")"
   ]
  },
  {
   "cell_type": "code",
   "execution_count": 139,
   "metadata": {},
   "outputs": [
    {
     "name": "stdout",
     "output_type": "stream",
     "text": [
      "Image/label pair as each sample:  (tensor([[[0.0000, 0.0000, 0.0000, 0.0000, 0.0000, 0.0000, 0.0000, 0.0000,\n",
      "          0.0000, 0.0000, 0.0000, 0.0000, 0.0000, 0.0000, 0.0000, 0.0000,\n",
      "          0.0000, 0.0000, 0.0000, 0.0000, 0.0000, 0.0000, 0.0000, 0.0000,\n",
      "          0.0000, 0.0000, 0.0000, 0.0000],\n",
      "         [0.0000, 0.0000, 0.0000, 0.0000, 0.0000, 0.0000, 0.0000, 0.0000,\n",
      "          0.0000, 0.0000, 0.0000, 0.0000, 0.0000, 0.0000, 0.0000, 0.0000,\n",
      "          0.0000, 0.0000, 0.0000, 0.0000, 0.0000, 0.0000, 0.0000, 0.0000,\n",
      "          0.0000, 0.0000, 0.0000, 0.0000],\n",
      "         [0.0000, 0.0000, 0.0000, 0.0000, 0.0000, 0.0000, 0.0000, 0.0000,\n",
      "          0.0000, 0.0000, 0.0000, 0.0000, 0.0000, 0.0000, 0.0000, 0.0000,\n",
      "          0.0000, 0.0000, 0.0000, 0.0000, 0.0000, 0.0000, 0.0000, 0.0000,\n",
      "          0.0000, 0.0000, 0.0000, 0.0000],\n",
      "         [0.0000, 0.0000, 0.0000, 0.0000, 0.0000, 0.0000, 0.0000, 0.0000,\n",
      "          0.0000, 0.0000, 0.0000, 0.0000, 0.0039, 0.0000, 0.0000, 0.0510,\n",
      "          0.2863, 0.0000, 0.0000, 0.0039, 0.0157, 0.0000, 0.0000, 0.0000,\n",
      "          0.0000, 0.0039, 0.0039, 0.0000],\n",
      "         [0.0000, 0.0000, 0.0000, 0.0000, 0.0000, 0.0000, 0.0000, 0.0000,\n",
      "          0.0000, 0.0000, 0.0000, 0.0000, 0.0118, 0.0000, 0.1412, 0.5333,\n",
      "          0.4980, 0.2431, 0.2118, 0.0000, 0.0000, 0.0000, 0.0039, 0.0118,\n",
      "          0.0157, 0.0000, 0.0000, 0.0118],\n",
      "         [0.0000, 0.0000, 0.0000, 0.0000, 0.0000, 0.0000, 0.0000, 0.0000,\n",
      "          0.0000, 0.0000, 0.0000, 0.0000, 0.0235, 0.0000, 0.4000, 0.8000,\n",
      "          0.6902, 0.5255, 0.5647, 0.4824, 0.0902, 0.0000, 0.0000, 0.0000,\n",
      "          0.0000, 0.0471, 0.0392, 0.0000],\n",
      "         [0.0000, 0.0000, 0.0000, 0.0000, 0.0000, 0.0000, 0.0000, 0.0000,\n",
      "          0.0000, 0.0000, 0.0000, 0.0000, 0.0000, 0.0000, 0.6078, 0.9255,\n",
      "          0.8118, 0.6980, 0.4196, 0.6118, 0.6314, 0.4275, 0.2510, 0.0902,\n",
      "          0.3020, 0.5098, 0.2824, 0.0588],\n",
      "         [0.0000, 0.0000, 0.0000, 0.0000, 0.0000, 0.0000, 0.0000, 0.0000,\n",
      "          0.0000, 0.0000, 0.0000, 0.0039, 0.0000, 0.2706, 0.8118, 0.8745,\n",
      "          0.8549, 0.8471, 0.8471, 0.6392, 0.4980, 0.4745, 0.4784, 0.5725,\n",
      "          0.5529, 0.3451, 0.6745, 0.2588],\n",
      "         [0.0000, 0.0000, 0.0000, 0.0000, 0.0000, 0.0000, 0.0000, 0.0000,\n",
      "          0.0000, 0.0039, 0.0039, 0.0039, 0.0000, 0.7843, 0.9098, 0.9098,\n",
      "          0.9137, 0.8980, 0.8745, 0.8745, 0.8431, 0.8353, 0.6431, 0.4980,\n",
      "          0.4824, 0.7686, 0.8980, 0.0000],\n",
      "         [0.0000, 0.0000, 0.0000, 0.0000, 0.0000, 0.0000, 0.0000, 0.0000,\n",
      "          0.0000, 0.0000, 0.0000, 0.0000, 0.0000, 0.7176, 0.8824, 0.8471,\n",
      "          0.8745, 0.8941, 0.9216, 0.8902, 0.8784, 0.8706, 0.8784, 0.8667,\n",
      "          0.8745, 0.9608, 0.6784, 0.0000],\n",
      "         [0.0000, 0.0000, 0.0000, 0.0000, 0.0000, 0.0000, 0.0000, 0.0000,\n",
      "          0.0000, 0.0000, 0.0000, 0.0000, 0.0000, 0.7569, 0.8941, 0.8549,\n",
      "          0.8353, 0.7765, 0.7059, 0.8314, 0.8235, 0.8275, 0.8353, 0.8745,\n",
      "          0.8627, 0.9529, 0.7922, 0.0000],\n",
      "         [0.0000, 0.0000, 0.0000, 0.0000, 0.0000, 0.0000, 0.0000, 0.0000,\n",
      "          0.0000, 0.0039, 0.0118, 0.0000, 0.0471, 0.8588, 0.8627, 0.8314,\n",
      "          0.8549, 0.7529, 0.6627, 0.8902, 0.8157, 0.8549, 0.8784, 0.8314,\n",
      "          0.8863, 0.7725, 0.8196, 0.2039],\n",
      "         [0.0000, 0.0000, 0.0000, 0.0000, 0.0000, 0.0000, 0.0000, 0.0000,\n",
      "          0.0000, 0.0000, 0.0235, 0.0000, 0.3882, 0.9569, 0.8706, 0.8627,\n",
      "          0.8549, 0.7961, 0.7765, 0.8667, 0.8431, 0.8353, 0.8706, 0.8627,\n",
      "          0.9608, 0.4667, 0.6549, 0.2196],\n",
      "         [0.0000, 0.0000, 0.0000, 0.0000, 0.0000, 0.0000, 0.0000, 0.0000,\n",
      "          0.0000, 0.0157, 0.0000, 0.0000, 0.2157, 0.9255, 0.8941, 0.9020,\n",
      "          0.8941, 0.9412, 0.9098, 0.8353, 0.8549, 0.8745, 0.9176, 0.8510,\n",
      "          0.8510, 0.8196, 0.3608, 0.0000],\n",
      "         [0.0000, 0.0000, 0.0039, 0.0157, 0.0235, 0.0275, 0.0078, 0.0000,\n",
      "          0.0000, 0.0000, 0.0000, 0.0000, 0.9294, 0.8863, 0.8510, 0.8745,\n",
      "          0.8706, 0.8588, 0.8706, 0.8667, 0.8471, 0.8745, 0.8980, 0.8431,\n",
      "          0.8549, 1.0000, 0.3020, 0.0000],\n",
      "         [0.0000, 0.0118, 0.0000, 0.0000, 0.0000, 0.0000, 0.0000, 0.0000,\n",
      "          0.0000, 0.2431, 0.5686, 0.8000, 0.8941, 0.8118, 0.8353, 0.8667,\n",
      "          0.8549, 0.8157, 0.8275, 0.8549, 0.8784, 0.8745, 0.8588, 0.8431,\n",
      "          0.8784, 0.9569, 0.6235, 0.0000],\n",
      "         [0.0000, 0.0000, 0.0000, 0.0000, 0.0706, 0.1725, 0.3216, 0.4196,\n",
      "          0.7412, 0.8941, 0.8627, 0.8706, 0.8510, 0.8863, 0.7843, 0.8039,\n",
      "          0.8275, 0.9020, 0.8784, 0.9176, 0.6902, 0.7373, 0.9804, 0.9725,\n",
      "          0.9137, 0.9333, 0.8431, 0.0000],\n",
      "         [0.0000, 0.2235, 0.7333, 0.8157, 0.8784, 0.8667, 0.8784, 0.8157,\n",
      "          0.8000, 0.8392, 0.8157, 0.8196, 0.7843, 0.6235, 0.9608, 0.7569,\n",
      "          0.8078, 0.8745, 1.0000, 1.0000, 0.8667, 0.9176, 0.8667, 0.8275,\n",
      "          0.8627, 0.9098, 0.9647, 0.0000],\n",
      "         [0.0118, 0.7922, 0.8941, 0.8784, 0.8667, 0.8275, 0.8275, 0.8392,\n",
      "          0.8039, 0.8039, 0.8039, 0.8627, 0.9412, 0.3137, 0.5882, 1.0000,\n",
      "          0.8980, 0.8667, 0.7373, 0.6039, 0.7490, 0.8235, 0.8000, 0.8196,\n",
      "          0.8706, 0.8941, 0.8824, 0.0000],\n",
      "         [0.3843, 0.9137, 0.7765, 0.8235, 0.8706, 0.8980, 0.8980, 0.9176,\n",
      "          0.9765, 0.8627, 0.7608, 0.8431, 0.8510, 0.9451, 0.2549, 0.2863,\n",
      "          0.4157, 0.4588, 0.6588, 0.8588, 0.8667, 0.8431, 0.8510, 0.8745,\n",
      "          0.8745, 0.8784, 0.8980, 0.1137],\n",
      "         [0.2941, 0.8000, 0.8314, 0.8000, 0.7569, 0.8039, 0.8275, 0.8824,\n",
      "          0.8471, 0.7255, 0.7725, 0.8078, 0.7765, 0.8353, 0.9412, 0.7647,\n",
      "          0.8902, 0.9608, 0.9373, 0.8745, 0.8549, 0.8314, 0.8196, 0.8706,\n",
      "          0.8627, 0.8667, 0.9020, 0.2627],\n",
      "         [0.1882, 0.7961, 0.7176, 0.7608, 0.8353, 0.7725, 0.7255, 0.7451,\n",
      "          0.7608, 0.7529, 0.7922, 0.8392, 0.8588, 0.8667, 0.8627, 0.9255,\n",
      "          0.8824, 0.8471, 0.7804, 0.8078, 0.7294, 0.7098, 0.6941, 0.6745,\n",
      "          0.7098, 0.8039, 0.8078, 0.4510],\n",
      "         [0.0000, 0.4784, 0.8588, 0.7569, 0.7020, 0.6706, 0.7176, 0.7686,\n",
      "          0.8000, 0.8235, 0.8353, 0.8118, 0.8275, 0.8235, 0.7843, 0.7686,\n",
      "          0.7608, 0.7490, 0.7647, 0.7490, 0.7765, 0.7529, 0.6902, 0.6118,\n",
      "          0.6549, 0.6941, 0.8235, 0.3608],\n",
      "         [0.0000, 0.0000, 0.2902, 0.7412, 0.8314, 0.7490, 0.6863, 0.6745,\n",
      "          0.6863, 0.7098, 0.7255, 0.7373, 0.7412, 0.7373, 0.7569, 0.7765,\n",
      "          0.8000, 0.8196, 0.8235, 0.8235, 0.8275, 0.7373, 0.7373, 0.7608,\n",
      "          0.7529, 0.8471, 0.6667, 0.0000],\n",
      "         [0.0078, 0.0000, 0.0000, 0.0000, 0.2588, 0.7843, 0.8706, 0.9294,\n",
      "          0.9373, 0.9490, 0.9647, 0.9529, 0.9569, 0.8667, 0.8627, 0.7569,\n",
      "          0.7490, 0.7020, 0.7137, 0.7137, 0.7098, 0.6902, 0.6510, 0.6588,\n",
      "          0.3882, 0.2275, 0.0000, 0.0000],\n",
      "         [0.0000, 0.0000, 0.0000, 0.0000, 0.0000, 0.0000, 0.0000, 0.1569,\n",
      "          0.2392, 0.1725, 0.2824, 0.1608, 0.1373, 0.0000, 0.0000, 0.0000,\n",
      "          0.0000, 0.0000, 0.0000, 0.0000, 0.0000, 0.0000, 0.0000, 0.0000,\n",
      "          0.0000, 0.0000, 0.0000, 0.0000],\n",
      "         [0.0000, 0.0000, 0.0000, 0.0000, 0.0000, 0.0000, 0.0000, 0.0000,\n",
      "          0.0000, 0.0000, 0.0000, 0.0000, 0.0000, 0.0000, 0.0000, 0.0000,\n",
      "          0.0000, 0.0000, 0.0000, 0.0000, 0.0000, 0.0000, 0.0000, 0.0000,\n",
      "          0.0000, 0.0000, 0.0000, 0.0000],\n",
      "         [0.0000, 0.0000, 0.0000, 0.0000, 0.0000, 0.0000, 0.0000, 0.0000,\n",
      "          0.0000, 0.0000, 0.0000, 0.0000, 0.0000, 0.0000, 0.0000, 0.0000,\n",
      "          0.0000, 0.0000, 0.0000, 0.0000, 0.0000, 0.0000, 0.0000, 0.0000,\n",
      "          0.0000, 0.0000, 0.0000, 0.0000]]]), 9)\n"
     ]
    }
   ],
   "source": [
    "# cell 28\n",
    "image, label = training_data[0]\n",
    "print(\"Image/label pair as each sample: \", training_data[0])"
   ]
  },
  {
   "cell_type": "code",
   "execution_count": 140,
   "metadata": {},
   "outputs": [
    {
     "name": "stdout",
     "output_type": "stream",
     "text": [
      "Shape of each sample:  torch.Size([1, 28, 28])\n",
      "Label for 0th sample:  9\n"
     ]
    }
   ],
   "source": [
    "# cell 29\n",
    "print(\"Shape of each sample: \", training_data[0][0].shape)\n",
    "print(\"Label for 0th sample: \", training_data[0][1])"
   ]
  },
  {
   "cell_type": "markdown",
   "metadata": {},
   "source": [
    "### Label Mapping"
   ]
  },
  {
   "cell_type": "code",
   "execution_count": 141,
   "metadata": {},
   "outputs": [],
   "source": [
    "# cell 30\n",
    "labels_map = {\n",
    "    0: \"T-Shirt\",\n",
    "    1: \"Trouser\",\n",
    "    2: \"Pullover\",\n",
    "    3: \"Dress\",\n",
    "    4: \"Coat\",\n",
    "    5: \"Sandal\",\n",
    "    6: \"Shirt\",\n",
    "    7: \"Sneaker\",\n",
    "    8: \"Bag\",\n",
    "    9: \"Ankle Boot\",\n",
    "}"
   ]
  },
  {
   "cell_type": "markdown",
   "metadata": {},
   "source": [
    "### Visualizing the dataset"
   ]
  },
  {
   "cell_type": "code",
   "execution_count": 142,
   "metadata": {},
   "outputs": [
    {
     "data": {
      "image/png": "[encoded data removed]",
      "text/plain": [
       "<Figure size 800x800 with 9 Axes>"
      ]
     },
     "metadata": {},
     "output_type": "display_data"
    }
   ],
   "source": [
    "# cell 31\n",
    "figure = plt.figure(figsize=(8, 8))\n",
    "cols, rows = 3, 3\n",
    "for i in range(1, cols * rows + 1):\n",
    "    sample_idx = torch.randint(len(training_data), size=(1,)).item()\n",
    "    img, label = training_data[sample_idx]\n",
    "    figure.add_subplot(rows, cols, i)\n",
    "    plt.title(labels_map[label])\n",
    "    plt.axis(\"off\")\n",
    "    plt.imshow(img.squeeze(), cmap=\"gray\")\n",
    "plt.show()"
   ]
  },
  {
   "cell_type": "markdown",
   "metadata": {},
   "source": [
    "### Step 2: Building Dataloader"
   ]
  },
  {
   "cell_type": "code",
   "execution_count": 143,
   "metadata": {},
   "outputs": [],
   "source": [
    "# cell 32\n",
    "train_dataloader = DataLoader(training_data, batch_size=64, shuffle=True)\n",
    "test_dataloader = DataLoader(test_data, batch_size=64, shuffle=True)"
   ]
  },
  {
   "cell_type": "code",
   "execution_count": 144,
   "metadata": {},
   "outputs": [
    {
     "name": "stdout",
     "output_type": "stream",
     "text": [
      "Training batch shape: torch.Size([64, 1, 28, 28])\n",
      "Labels batch shape: torch.Size([64])\n"
     ]
    }
   ],
   "source": [
    "# cell 33\n",
    "train_features, train_labels = next(iter(train_dataloader))\n",
    "print(f\"Training batch shape: {train_features.size()}\")\n",
    "print(f\"Labels batch shape: {train_labels.size()}\")"
   ]
  },
  {
   "cell_type": "markdown",
   "metadata": {},
   "source": [
    "### Step 3: Build Model Architecture"
   ]
  },
  {
   "cell_type": "code",
   "execution_count": 145,
   "metadata": {},
   "outputs": [],
   "source": [
    "# cell 34\n",
    "# Your code here\n",
    "class NeuralNetwork(nn.Module):\n",
    "    def __init__(self):\n",
    "        super().__init__()\n",
    "        self.flatten = nn.Flatten()\n",
    "        self.linear_relu_stack = nn.Sequential(\n",
    "            nn.Linear(28*28, 512),\n",
    "            nn.ReLU(),\n",
    "            nn.Linear(512, 512),\n",
    "            nn.ReLU(),\n",
    "            nn.Linear(512, 10),\n",
    "        )\n",
    "\n",
    "    def forward(self, x):\n",
    "        x = self.flatten(x)\n",
    "        logits = self.linear_relu_stack(x)\n",
    "        return logits"
   ]
  },
  {
   "cell_type": "code",
   "execution_count": 146,
   "metadata": {},
   "outputs": [
    {
     "name": "stdout",
     "output_type": "stream",
     "text": [
      "Using cpu device\n"
     ]
    }
   ],
   "source": [
    "# cell 35\n",
    "device = (\"cuda\" if torch.cuda.is_available() else \"cpu\")\n",
    "print(f\"Using {device} device\")"
   ]
  },
  {
   "cell_type": "code",
   "execution_count": 147,
   "metadata": {},
   "outputs": [
    {
     "name": "stdout",
     "output_type": "stream",
     "text": [
      "NeuralNetwork(\n",
      "  (flatten): Flatten(start_dim=1, end_dim=-1)\n",
      "  (linear_relu_stack): Sequential(\n",
      "    (0): Linear(in_features=784, out_features=512, bias=True)\n",
      "    (1): ReLU()\n",
      "    (2): Linear(in_features=512, out_features=512, bias=True)\n",
      "    (3): ReLU()\n",
      "    (4): Linear(in_features=512, out_features=10, bias=True)\n",
      "  )\n",
      ")\n"
     ]
    }
   ],
   "source": [
    "# cell 36\n",
    "model = NeuralNetwork().to(device)\n",
    "print(model)"
   ]
  },
  {
   "cell_type": "markdown",
   "metadata": {},
   "source": [
    "### Step 4: Prepare Training/Optimization Loop"
   ]
  },
  {
   "cell_type": "code",
   "execution_count": 148,
   "metadata": {},
   "outputs": [],
   "source": [
    "# cell 37\n",
    "def train(train_dataloader, test_dataloader, model, loss_fn, optimizer, epochs, device, val_interval=1):\n",
    "    train_loss_values = []\n",
    "    val_loss_values = []\n",
    "    val_accuracy_values = []\n",
    "    # Training loop\n",
    "    for epoch in range(epochs):\n",
    "        print(\"-\" * 10)\n",
    "        print(f\"epoch {epoch + 1}/{epochs}\")\n",
    "        model.train()   # set model on training mode\n",
    "        epoch_loss = 0\n",
    "        val_epoch_loss = 0\n",
    "        step = 0\n",
    "        correct_count = 0\n",
    "        for batch_data in tqdm(train_dataloader):\n",
    "            step += 1\n",
    "            inputs, labels = (\n",
    "                batch_data[0].to(device),\n",
    "                batch_data[1].to(device),\n",
    "            )\n",
    "            optimizer.zero_grad()\n",
    "            outputs = model(inputs)\n",
    "            loss = loss_fn(outputs, labels)   # Batch loss\n",
    "            loss.backward()\n",
    "            optimizer.step()\n",
    "            epoch_loss += loss.item()\n",
    "\n",
    "        epoch_loss /= step\n",
    "        train_loss_values.append(epoch_loss)\n",
    "        print(f\"Epoch {epoch + 1} average training loss: {epoch_loss:.4f}\")\n",
    "      \n",
    "        # Validation loop\n",
    "        if (epoch + 1) % val_interval == 0:\n",
    "            model.eval()    # Setting model in eval mode\n",
    "            with torch.no_grad():\n",
    "                val_step = 0\n",
    "                for val_data in test_dataloader:\n",
    "                    val_step += 1\n",
    "                    val_inputs, val_labels = (\n",
    "                      val_data[0].to(device),\n",
    "                      val_data[1].to(device),\n",
    "                    )\n",
    "                    outputs = model(val_inputs)\n",
    "                    loss = loss_fn(outputs, val_labels)   # Batch loss\n",
    "                    val_epoch_loss += loss.item()\n",
    "                    correct_count += (outputs.argmax(1) == val_labels).type(torch.float).sum().item()\n",
    "                    # print(correct_count)\n",
    "            val_epoch_loss /= val_step\n",
    "            accuracy = correct_count / len(test_dataloader.dataset)\n",
    "            val_loss_values.append(val_epoch_loss)\n",
    "            val_accuracy_values.append(accuracy)\n",
    "            print(f\"Epoch {epoch + 1} average validation loss: {val_epoch_loss:.4f}\")\n",
    "            print(f\"Validation Accuracy: {(100 * accuracy):>0.1f}% \\n\")\n",
    "            \n",
    "    return train_loss_values, val_loss_values, val_accuracy_values\n",
    "                  "
   ]
  },
  {
   "cell_type": "markdown",
   "metadata": {},
   "source": [
    "### Step 5: Model Training and Evaluation"
   ]
  },
  {
   "cell_type": "markdown",
   "metadata": {},
   "source": [
    "Setting Hyperparameters"
   ]
  },
  {
   "cell_type": "code",
   "execution_count": 149,
   "metadata": {},
   "outputs": [],
   "source": [
    "# cell 38\n",
    "learning_rate = 1e-3\n",
    "batch_size = 64\n",
    "epochs = 5"
   ]
  },
  {
   "cell_type": "code",
   "execution_count": 150,
   "metadata": {},
   "outputs": [
    {
     "name": "stdout",
     "output_type": "stream",
     "text": [
      "----------\n",
      "epoch 1/5\n"
     ]
    },
    {
     "name": "stderr",
     "output_type": "stream",
     "text": [
      "100%|██████████| 938/938 [00:14<00:00, 63.18it/s]\n"
     ]
    },
    {
     "name": "stdout",
     "output_type": "stream",
     "text": [
      "Epoch 1 average training loss: 2.2325\n",
      "Epoch 1 average validation loss: 2.1543\n",
      "Validation Accuracy: 50.8% \n",
      "\n",
      "----------\n",
      "epoch 2/5\n"
     ]
    },
    {
     "name": "stderr",
     "output_type": "stream",
     "text": [
      "100%|██████████| 938/938 [00:14<00:00, 63.02it/s]\n"
     ]
    },
    {
     "name": "stdout",
     "output_type": "stream",
     "text": [
      "Epoch 2 average training loss: 2.0333\n",
      "Epoch 2 average validation loss: 1.8849\n",
      "Validation Accuracy: 59.2% \n",
      "\n",
      "----------\n",
      "epoch 3/5\n"
     ]
    },
    {
     "name": "stderr",
     "output_type": "stream",
     "text": [
      "100%|██████████| 938/938 [00:14<00:00, 64.44it/s]\n"
     ]
    },
    {
     "name": "stdout",
     "output_type": "stream",
     "text": [
      "Epoch 3 average training loss: 1.6927\n",
      "Epoch 3 average validation loss: 1.5097\n",
      "Validation Accuracy: 61.8% \n",
      "\n",
      "----------\n",
      "epoch 4/5\n"
     ]
    },
    {
     "name": "stderr",
     "output_type": "stream",
     "text": [
      "100%|██████████| 938/938 [00:14<00:00, 64.69it/s]\n"
     ]
    },
    {
     "name": "stdout",
     "output_type": "stream",
     "text": [
      "Epoch 4 average training loss: 1.3574\n",
      "Epoch 4 average validation loss: 1.2372\n",
      "Validation Accuracy: 63.7% \n",
      "\n",
      "----------\n",
      "epoch 5/5\n"
     ]
    },
    {
     "name": "stderr",
     "output_type": "stream",
     "text": [
      "100%|██████████| 938/938 [00:14<00:00, 66.44it/s]\n"
     ]
    },
    {
     "name": "stdout",
     "output_type": "stream",
     "text": [
      "Epoch 5 average training loss: 1.1412\n",
      "Epoch 5 average validation loss: 1.0747\n",
      "Validation Accuracy: 64.6% \n",
      "\n"
     ]
    }
   ],
   "source": [
    "# cell 39\n",
    "loss_fn = nn.CrossEntropyLoss()\n",
    "optimizer = torch.optim.SGD(model.parameters(), lr=learning_rate)\n",
    "train_loss_values, val_loss_values, val_accuracy_values = train(train_dataloader, test_dataloader, model, loss_fn, optimizer, epochs, device, val_interval=1)"
   ]
  },
  {
   "cell_type": "code",
   "execution_count": 151,
   "metadata": {},
   "outputs": [
    {
     "data": {
      "image/png": "[encoded data removed]",
      "text/plain": [
       "<Figure size 1500x500 with 2 Axes>"
      ]
     },
     "metadata": {},
     "output_type": "display_data"
    }
   ],
   "source": [
    "# cell 40\n",
    "val_interval = 1\n",
    "plt.figure(figsize=(15, 5))\n",
    "\n",
    "# Subplot for training and validation loss\n",
    "plt.subplot(1, 2, 1)\n",
    "plt.title(\"Loss Plot\")\n",
    "train_num_epoch = [i + 1 for i in range(len(train_loss_values))]\n",
    "val_num_epoch = [val_interval * (i + 1) for i in range(len(val_loss_values))]\n",
    "plt.plot(val_num_epoch, val_loss_values)\n",
    "plt.plot(train_num_epoch, train_loss_values)\n",
    "plt.legend([\"Validation Loss\", \"Training Loss\"])\n",
    "plt.xlabel(\"#Epochs\")\n",
    "plt.ylabel(\"Average Epoch Loss\")\n",
    "\n",
    "# Subplot for validation accuracy\n",
    "plt.subplot(1, 2, 2)\n",
    "val_num_epoch = [val_interval * (i + 1) for i in range(len(val_accuracy_values))]\n",
    "plt.plot(val_num_epoch, val_accuracy_values)\n",
    "plt.title(\"Accuracy plot\")\n",
    "plt.xlabel(\"#Epochs\")\n",
    "plt.ylabel(\"Accuracy\")\n",
    "plt.show()"
   ]
  },
  {
   "cell_type": "markdown",
   "metadata": {},
   "source": [
    "### Step 6: Model Saving"
   ]
  },
  {
   "cell_type": "markdown",
   "metadata": {},
   "source": [
    "#### Saving the entire model\n",
    "* When we save the model with this approach, we could easily load the model without needing its architecture.\n",
    "* But we could not resume training."
   ]
  },
  {
   "cell_type": "code",
   "execution_count": 152,
   "metadata": {},
   "outputs": [],
   "source": [
    "# cell 41\n",
    "torch.save(model, \"model.pth\")"
   ]
  },
  {
   "cell_type": "markdown",
   "metadata": {},
   "source": [
    "#### Loading the saved model"
   ]
  },
  {
   "cell_type": "code",
   "execution_count": 153,
   "metadata": {},
   "outputs": [],
   "source": [
    "# cell 42\n",
    "# Loading the saved model\n",
    "model = torch.load(\"model.pth\")"
   ]
  },
  {
   "cell_type": "markdown",
   "metadata": {},
   "source": [
    "#### Saving model state and relevant information\n",
    "* When we save the model with this approach, we need to load the model architecture first and then only we could load the weights.\n",
    "* We could resume training from the saved checkpoint."
   ]
  },
  {
   "cell_type": "code",
   "execution_count": 157,
   "metadata": {},
   "outputs": [],
   "source": [
    "# cell 43\n",
    "checkpoint = {\n",
    "    \"model_state\": model.state_dict(),\n",
    "    \"optimizer_state\": optimizer.state_dict(),\n",
    "    \"train_loss\": train_loss_values,\n",
    "    \"val_loss\": val_loss_values,\n",
    "    \"val_accuracy\": val_accuracy_values\n",
    "}\n",
    "torch.save(checkpoint, 'checkpoint.pth.tar')"
   ]
  },
  {
   "cell_type": "markdown",
   "metadata": {},
   "source": [
    "#### Loading the saved checkpoint"
   ]
  },
  {
   "cell_type": "code",
   "execution_count": 158,
   "metadata": {},
   "outputs": [
    {
     "ename": "FileNotFoundError",
     "evalue": "[Errno 2] No such file or directory: 'chekpoint_path_here'",
     "output_type": "error",
     "traceback": [
      "\u001b[1;31m---------------------------------------------------------------------------\u001b[0m",
      "\u001b[1;31mFileNotFoundError\u001b[0m                         Traceback (most recent call last)",
      "Cell \u001b[1;32mIn[158], line 3\u001b[0m\n\u001b[0;32m      1\u001b[0m \u001b[38;5;66;03m# cell 44\u001b[39;00m\n\u001b[0;32m      2\u001b[0m \u001b[38;5;66;03m# Loading the checkpoint\u001b[39;00m\n\u001b[1;32m----> 3\u001b[0m checkpoint \u001b[38;5;241m=\u001b[39m \u001b[43mtorch\u001b[49m\u001b[38;5;241;43m.\u001b[39;49m\u001b[43mload\u001b[49m\u001b[43m(\u001b[49m\u001b[38;5;124;43m\"\u001b[39;49m\u001b[38;5;124;43mchekpoint_path_here\u001b[39;49m\u001b[38;5;124;43m\"\u001b[39;49m\u001b[43m)\u001b[49m\n\u001b[0;32m      5\u001b[0m \u001b[38;5;66;03m# First load the model architecture i.e. instantiate the model class and optimizer\u001b[39;00m\n\u001b[0;32m      6\u001b[0m model \u001b[38;5;241m=\u001b[39m NeuralNetwork()\n",
      "File \u001b[1;32mc:\\Users\\ramme\\AppData\\Local\\Programs\\Python\\Python310\\lib\\site-packages\\torch\\serialization.py:997\u001b[0m, in \u001b[0;36mload\u001b[1;34m(f, map_location, pickle_module, weights_only, mmap, **pickle_load_args)\u001b[0m\n\u001b[0;32m    994\u001b[0m \u001b[38;5;28;01mif\u001b[39;00m \u001b[38;5;124m'\u001b[39m\u001b[38;5;124mencoding\u001b[39m\u001b[38;5;124m'\u001b[39m \u001b[38;5;129;01mnot\u001b[39;00m \u001b[38;5;129;01min\u001b[39;00m pickle_load_args\u001b[38;5;241m.\u001b[39mkeys():\n\u001b[0;32m    995\u001b[0m     pickle_load_args[\u001b[38;5;124m'\u001b[39m\u001b[38;5;124mencoding\u001b[39m\u001b[38;5;124m'\u001b[39m] \u001b[38;5;241m=\u001b[39m \u001b[38;5;124m'\u001b[39m\u001b[38;5;124mutf-8\u001b[39m\u001b[38;5;124m'\u001b[39m\n\u001b[1;32m--> 997\u001b[0m \u001b[38;5;28;01mwith\u001b[39;00m \u001b[43m_open_file_like\u001b[49m\u001b[43m(\u001b[49m\u001b[43mf\u001b[49m\u001b[43m,\u001b[49m\u001b[43m \u001b[49m\u001b[38;5;124;43m'\u001b[39;49m\u001b[38;5;124;43mrb\u001b[39;49m\u001b[38;5;124;43m'\u001b[39;49m\u001b[43m)\u001b[49m \u001b[38;5;28;01mas\u001b[39;00m opened_file:\n\u001b[0;32m    998\u001b[0m     \u001b[38;5;28;01mif\u001b[39;00m _is_zipfile(opened_file):\n\u001b[0;32m    999\u001b[0m         \u001b[38;5;66;03m# The zipfile reader is going to advance the current file position.\u001b[39;00m\n\u001b[0;32m   1000\u001b[0m         \u001b[38;5;66;03m# If we want to actually tail call to torch.jit.load, we need to\u001b[39;00m\n\u001b[0;32m   1001\u001b[0m         \u001b[38;5;66;03m# reset back to the original position.\u001b[39;00m\n\u001b[0;32m   1002\u001b[0m         orig_position \u001b[38;5;241m=\u001b[39m opened_file\u001b[38;5;241m.\u001b[39mtell()\n",
      "File \u001b[1;32mc:\\Users\\ramme\\AppData\\Local\\Programs\\Python\\Python310\\lib\\site-packages\\torch\\serialization.py:444\u001b[0m, in \u001b[0;36m_open_file_like\u001b[1;34m(name_or_buffer, mode)\u001b[0m\n\u001b[0;32m    442\u001b[0m \u001b[38;5;28;01mdef\u001b[39;00m \u001b[38;5;21m_open_file_like\u001b[39m(name_or_buffer, mode):\n\u001b[0;32m    443\u001b[0m     \u001b[38;5;28;01mif\u001b[39;00m _is_path(name_or_buffer):\n\u001b[1;32m--> 444\u001b[0m         \u001b[38;5;28;01mreturn\u001b[39;00m \u001b[43m_open_file\u001b[49m\u001b[43m(\u001b[49m\u001b[43mname_or_buffer\u001b[49m\u001b[43m,\u001b[49m\u001b[43m \u001b[49m\u001b[43mmode\u001b[49m\u001b[43m)\u001b[49m\n\u001b[0;32m    445\u001b[0m     \u001b[38;5;28;01melse\u001b[39;00m:\n\u001b[0;32m    446\u001b[0m         \u001b[38;5;28;01mif\u001b[39;00m \u001b[38;5;124m'\u001b[39m\u001b[38;5;124mw\u001b[39m\u001b[38;5;124m'\u001b[39m \u001b[38;5;129;01min\u001b[39;00m mode:\n",
      "File \u001b[1;32mc:\\Users\\ramme\\AppData\\Local\\Programs\\Python\\Python310\\lib\\site-packages\\torch\\serialization.py:425\u001b[0m, in \u001b[0;36m_open_file.__init__\u001b[1;34m(self, name, mode)\u001b[0m\n\u001b[0;32m    424\u001b[0m \u001b[38;5;28;01mdef\u001b[39;00m \u001b[38;5;21m__init__\u001b[39m(\u001b[38;5;28mself\u001b[39m, name, mode):\n\u001b[1;32m--> 425\u001b[0m     \u001b[38;5;28msuper\u001b[39m()\u001b[38;5;241m.\u001b[39m\u001b[38;5;21m__init__\u001b[39m(\u001b[38;5;28;43mopen\u001b[39;49m\u001b[43m(\u001b[49m\u001b[43mname\u001b[49m\u001b[43m,\u001b[49m\u001b[43m \u001b[49m\u001b[43mmode\u001b[49m\u001b[43m)\u001b[49m)\n",
      "\u001b[1;31mFileNotFoundError\u001b[0m: [Errno 2] No such file or directory: 'chekpoint_path_here'"
     ]
    }
   ],
   "source": [
    "# cell 44\n",
    "# Loading the checkpoint\n",
    "checkpoint = torch.load(\"chekpoint_path_here\")\n",
    "\n",
    "# First load the model architecture i.e. instantiate the model class and optimizer\n",
    "model = NeuralNetwork()\n",
    "optimizer = torch.optim.SGD(model.parameters(), lr=learning_rate)\n",
    "\n",
    "# Then load the model weights and optimizer state\n",
    "model.load_state_dict(checkpoint['model_state'])\n",
    "optimizer.load_state_dict(checkpoint['optimizer_state'])\n",
    "\n",
    "# We can use these values for plotting\n",
    "train_loss_values = checkpoint['train_loss']\n",
    "val_loss_values = checkpoint['val_loss']\n",
    "val_accuracy_values = checkpoint['val_accuracy']"
   ]
  },
  {
   "cell_type": "markdown",
   "metadata": {},
   "source": [
    "### Step 7: Model Inferencing"
   ]
  },
  {
   "cell_type": "code",
   "execution_count": 159,
   "metadata": {},
   "outputs": [
    {
     "name": "stdout",
     "output_type": "stream",
     "text": [
      "Image shape:  torch.Size([1, 28, 28])\n",
      "Image shape after unsqueeze:  torch.Size([1, 1, 28, 28])\n",
      "Predicted: 0\n",
      "Target: 9\n"
     ]
    }
   ],
   "source": [
    "# cell 45\n",
    "image, label = test_data[0]\n",
    "print(\"Image shape: \", image.shape)\n",
    "# Adding batch dimension\n",
    "image_reshaped = image.unsqueeze(0).to(device) \n",
    "model = model.to(device)\n",
    "print(\"Image shape after unsqueeze: \", image_reshaped.shape)\n",
    "prediction = model(image_reshaped)\n",
    "prediction_index = predicted.argmax().item()\n",
    "print(f'Predicted: {prediction_index}')\n",
    "print(f'Target: {label}')"
   ]
  },
  {
   "cell_type": "markdown",
   "metadata": {},
   "source": [
    "Visualizing the Image"
   ]
  },
  {
   "cell_type": "code",
   "execution_count": 160,
   "metadata": {},
   "outputs": [
    {
     "data": {
      "image/png": "[encoded data removed]",
      "text/plain": [
       "<Figure size 500x500 with 1 Axes>"
      ]
     },
     "metadata": {},
     "output_type": "display_data"
    }
   ],
   "source": [
    "# cell 46\n",
    "figure = plt.figure(figsize=(5, 5))\n",
    "plt.title(f\"Label: {labels_map[label]} \\n Predicted: {labels_map[prediction_index]}\")\n",
    "plt.imshow(image.squeeze(), cmap=\"gray\")\n",
    "plt.xlabel(labels_map[prediction_index])\n",
    "plt.axis(\"off\")\n",
    "plt.show()"
   ]
  },
  {
   "cell_type": "markdown",
   "metadata": {},
   "source": [
    "### Step 8: Model Quantization and Conversion\n",
    "* Model quantization refers to techniques for performing computations and storing tensors at lower bitwidths (usually int8) than floating point precision.\n",
    "* Quantization enables:\n",
    "    * 4x reduction in model size;\n",
    "    * 2-4x reduction in memory bandwidth;\n",
    "    * 2-4x faster inference due to savings in memory bandwidth and faster compute with int8 arithmetic (the exact speed up varies depending on the hardware, the runtime, and the model).\n",
    "* In model conversion, we will convert the native pytorch model to ONNX(Open Neural Network Exchange) format which is open standard format for representing machine learning models"
   ]
  },
  {
   "cell_type": "markdown",
   "metadata": {},
   "source": [
    "Quantizating model to int8 Precision"
   ]
  },
  {
   "cell_type": "code",
   "execution_count": 161,
   "metadata": {},
   "outputs": [
    {
     "name": "stdout",
     "output_type": "stream",
     "text": [
      "NeuralNetwork(\n",
      "  (flatten): Flatten(start_dim=1, end_dim=-1)\n",
      "  (linear_relu_stack): Sequential(\n",
      "    (0): DynamicQuantizedLinear(in_features=784, out_features=512, dtype=torch.qint8, qscheme=torch.per_tensor_affine)\n",
      "    (1): ReLU()\n",
      "    (2): DynamicQuantizedLinear(in_features=512, out_features=512, dtype=torch.qint8, qscheme=torch.per_tensor_affine)\n",
      "    (3): ReLU()\n",
      "    (4): DynamicQuantizedLinear(in_features=512, out_features=10, dtype=torch.qint8, qscheme=torch.per_tensor_affine)\n",
      "  )\n",
      ")\n"
     ]
    }
   ],
   "source": [
    "# cell 47\n",
    "# Your Code Here\n",
    "model = NeuralNetwork()\n",
    "model.load_state_dict(checkpoint['model_state'])\n",
    "quantized_model = torch.quantization.quantize_dynamic(model, {torch.nn.Linear}, dtype=torch.qint8)\n",
    "print(quantized_model)"
   ]
  },
  {
   "cell_type": "code",
   "execution_count": 162,
   "metadata": {},
   "outputs": [],
   "source": [
    "# cell 48\n",
    "# Savimg quantized model\n",
    "torch.save(quantized_model, \"quantized_model.pth\")"
   ]
  },
  {
   "cell_type": "markdown",
   "metadata": {},
   "source": [
    "ONNX Conversion"
   ]
  },
  {
   "cell_type": "code",
   "execution_count": 163,
   "metadata": {},
   "outputs": [
    {
     "name": "stdout",
     "output_type": "stream",
     "text": [
      "Collecting onnxruntime\n",
      "  Downloading onnxruntime-1.18.0-cp39-cp39-win32.whl.metadata (4.4 kB)\n",
      "Collecting coloredlogs (from onnxruntime)\n",
      "  Downloading coloredlogs-15.0.1-py2.py3-none-any.whl.metadata (12 kB)\n",
      "Collecting flatbuffers (from onnxruntime)\n",
      "  Downloading flatbuffers-24.3.25-py2.py3-none-any.whl.metadata (850 bytes)\n",
      "Collecting numpy>=1.21.6 (from onnxruntime)\n",
      "  Downloading numpy-1.26.4-cp39-cp39-win32.whl.metadata (61 kB)\n",
      "     ---------------------------------------- 0.0/61.0 kB ? eta -:--:--\n",
      "     ------------- -------------------------- 20.5/61.0 kB ? eta -:--:--\n",
      "     -------------------------------------- 61.0/61.0 kB 806.3 kB/s eta 0:00:00\n",
      "Collecting packaging (from onnxruntime)\n",
      "  Using cached packaging-24.0-py3-none-any.whl.metadata (3.2 kB)\n",
      "Collecting protobuf (from onnxruntime)\n",
      "  Downloading protobuf-5.27.1-cp39-cp39-win32.whl.metadata (592 bytes)\n",
      "Collecting sympy (from onnxruntime)\n",
      "  Downloading sympy-1.12.1-py3-none-any.whl.metadata (12 kB)\n",
      "Collecting humanfriendly>=9.1 (from coloredlogs->onnxruntime)\n",
      "  Downloading humanfriendly-10.0-py2.py3-none-any.whl.metadata (9.2 kB)\n",
      "Collecting mpmath<1.4.0,>=1.1.0 (from sympy->onnxruntime)\n",
      "  Downloading mpmath-1.3.0-py3-none-any.whl.metadata (8.6 kB)\n",
      "Collecting pyreadline3 (from humanfriendly>=9.1->coloredlogs->onnxruntime)\n",
      "  Downloading pyreadline3-3.4.1-py3-none-any.whl.metadata (2.0 kB)\n",
      "Downloading onnxruntime-1.18.0-cp39-cp39-win32.whl (5.1 MB)\n",
      "   ---------------------------------------- 0.0/5.1 MB ? eta -:--:--\n",
      "   - -------------------------------------- 0.2/5.1 MB 2.9 MB/s eta 0:00:02\n",
      "   -- ------------------------------------- 0.4/5.1 MB 2.9 MB/s eta 0:00:02\n",
      "   ---- ----------------------------------- 0.5/5.1 MB 3.0 MB/s eta 0:00:02\n",
      "   ------- -------------------------------- 0.9/5.1 MB 4.2 MB/s eta 0:00:01\n",
      "   -------- ------------------------------- 1.0/5.1 MB 4.4 MB/s eta 0:00:01\n",
      "   -------- ------------------------------- 1.0/5.1 MB 4.4 MB/s eta 0:00:01\n",
      "   -------- ------------------------------- 1.0/5.1 MB 4.4 MB/s eta 0:00:01\n",
      "   -------- ------------------------------- 1.0/5.1 MB 4.4 MB/s eta 0:00:01\n",
      "   -------------- ------------------------- 1.8/5.1 MB 4.0 MB/s eta 0:00:01\n",
      "   ---------------- ----------------------- 2.1/5.1 MB 4.6 MB/s eta 0:00:01\n",
      "   ---------------- ----------------------- 2.1/5.1 MB 4.6 MB/s eta 0:00:01\n",
      "   ---------------- ----------------------- 2.1/5.1 MB 4.6 MB/s eta 0:00:01\n",
      "   ---------------- ----------------------- 2.1/5.1 MB 4.6 MB/s eta 0:00:01\n",
      "   ---------------- ----------------------- 2.1/5.1 MB 4.6 MB/s eta 0:00:01\n",
      "   ----------------- ---------------------- 2.2/5.1 MB 2.9 MB/s eta 0:00:01\n",
      "   ------------------------ --------------- 3.1/5.1 MB 4.0 MB/s eta 0:00:01\n",
      "   ------------------------ --------------- 3.1/5.1 MB 4.0 MB/s eta 0:00:01\n",
      "   ------------------------ --------------- 3.1/5.1 MB 4.0 MB/s eta 0:00:01\n",
      "   ------------------------ --------------- 3.1/5.1 MB 4.0 MB/s eta 0:00:01\n",
      "   -------------------------- ------------- 3.4/5.1 MB 3.5 MB/s eta 0:00:01\n",
      "   -------------------------------- ------- 4.2/5.1 MB 4.1 MB/s eta 0:00:01\n",
      "   -------------------------------- ------- 4.2/5.1 MB 4.1 MB/s eta 0:00:01\n",
      "   -------------------------------- ------- 4.2/5.1 MB 4.1 MB/s eta 0:00:01\n",
      "   ------------------------------------ --- 4.7/5.1 MB 3.9 MB/s eta 0:00:01\n",
      "   ---------------------------------------- 5.1/5.1 MB 4.1 MB/s eta 0:00:00\n",
      "Downloading numpy-1.26.4-cp39-cp39-win32.whl (6.0 MB)\n",
      "   ---------------------------------------- 0.0/6.0 MB ? eta -:--:--\n",
      "   ------ --------------------------------- 1.0/6.0 MB 21.6 MB/s eta 0:00:01\n",
      "   ----------- ---------------------------- 1.8/6.0 MB 19.0 MB/s eta 0:00:01\n",
      "   ------------------ --------------------- 2.7/6.0 MB 19.2 MB/s eta 0:00:01\n",
      "   ----------------------- ---------------- 3.6/6.0 MB 18.9 MB/s eta 0:00:01\n",
      "   ----------------------------- ---------- 4.4/6.0 MB 18.6 MB/s eta 0:00:01\n",
      "   ------------------------------------ --- 5.4/6.0 MB 19.1 MB/s eta 0:00:01\n",
      "   ---------------------------------------  6.0/6.0 MB 19.0 MB/s eta 0:00:01\n",
      "   ---------------------------------------- 6.0/6.0 MB 18.1 MB/s eta 0:00:00\n",
      "Downloading coloredlogs-15.0.1-py2.py3-none-any.whl (46 kB)\n",
      "   ---------------------------------------- 0.0/46.0 kB ? eta -:--:--\n",
      "   ---------------------------------------- 46.0/46.0 kB 2.4 MB/s eta 0:00:00\n",
      "Downloading flatbuffers-24.3.25-py2.py3-none-any.whl (26 kB)\n",
      "Using cached packaging-24.0-py3-none-any.whl (53 kB)\n",
      "Downloading protobuf-5.27.1-cp39-cp39-win32.whl (405 kB)\n",
      "   ---------------------------------------- 0.0/405.9 kB ? eta -:--:--\n",
      "   --------------------------------------- 405.9/405.9 kB 12.8 MB/s eta 0:00:00\n",
      "Downloading sympy-1.12.1-py3-none-any.whl (5.7 MB)\n",
      "   ---------------------------------------- 0.0/5.7 MB ? eta -:--:--\n",
      "   ------ --------------------------------- 0.9/5.7 MB 18.9 MB/s eta 0:00:01\n",
      "   -------------- ------------------------- 2.1/5.7 MB 19.2 MB/s eta 0:00:01\n",
      "   ---------------------- ----------------- 3.3/5.7 MB 17.5 MB/s eta 0:00:01\n",
      "   ----------------------------- ---------- 4.3/5.7 MB 18.2 MB/s eta 0:00:01\n",
      "   --------------------------------- ------ 4.8/5.7 MB 19.1 MB/s eta 0:00:01\n",
      "   --------------------------------- ------ 4.8/5.7 MB 19.1 MB/s eta 0:00:01\n",
      "   --------------------------------- ------ 4.8/5.7 MB 19.1 MB/s eta 0:00:01\n",
      "   --------------------------------- ------ 4.8/5.7 MB 19.1 MB/s eta 0:00:01\n",
      "   ---------------------------------------  5.6/5.7 MB 12.0 MB/s eta 0:00:01\n",
      "   ---------------------------------------- 5.7/5.7 MB 11.5 MB/s eta 0:00:00\n",
      "Downloading humanfriendly-10.0-py2.py3-none-any.whl (86 kB)\n",
      "   ---------------------------------------- 0.0/86.8 kB ? eta -:--:--\n",
      "   ---------------------------------------- 86.8/86.8 kB 5.1 MB/s eta 0:00:00\n",
      "Downloading mpmath-1.3.0-py3-none-any.whl (536 kB)\n",
      "   ---------------------------------------- 0.0/536.2 kB ? eta -:--:--\n",
      "   --------------------------------------  532.5/536.2 kB 16.3 MB/s eta 0:00:01\n",
      "   --------------------------------------- 536.2/536.2 kB 11.2 MB/s eta 0:00:00\n",
      "Downloading pyreadline3-3.4.1-py3-none-any.whl (95 kB)\n",
      "   ---------------------------------------- 0.0/95.2 kB ? eta -:--:--\n",
      "   ---------------------------------------- 95.2/95.2 kB 5.3 MB/s eta 0:00:00\n",
      "Installing collected packages: pyreadline3, mpmath, flatbuffers, sympy, protobuf, packaging, numpy, humanfriendly, coloredlogs, onnxruntime\n",
      "Successfully installed coloredlogs-15.0.1 flatbuffers-24.3.25 humanfriendly-10.0 mpmath-1.3.0 numpy-1.26.4 onnxruntime-1.18.0 packaging-24.0 protobuf-5.27.1 pyreadline3-3.4.1 sympy-1.12.1\n"
     ]
    }
   ],
   "source": [
    "# cell 49\n",
    "# Install the dependencies for model conversion\n",
    "!pip install onnxruntime"
   ]
  },
  {
   "cell_type": "code",
   "execution_count": 164,
   "metadata": {},
   "outputs": [
    {
     "ename": "OnnxExporterError",
     "evalue": "Module onnx is not installed!",
     "output_type": "error",
     "traceback": [
      "\u001b[1;31m---------------------------------------------------------------------------\u001b[0m",
      "\u001b[1;31mModuleNotFoundError\u001b[0m                       Traceback (most recent call last)",
      "File \u001b[1;32mc:\\Users\\ramme\\AppData\\Local\\Programs\\Python\\Python310\\lib\\site-packages\\torch\\onnx\\_internal\\onnx_proto_utils.py:219\u001b[0m, in \u001b[0;36m_add_onnxscript_fn\u001b[1;34m(model_bytes, custom_opsets)\u001b[0m\n\u001b[0;32m    218\u001b[0m \u001b[38;5;28;01mtry\u001b[39;00m:\n\u001b[1;32m--> 219\u001b[0m     \u001b[38;5;28;01mimport\u001b[39;00m \u001b[38;5;21;01monnx\u001b[39;00m\n\u001b[0;32m    220\u001b[0m \u001b[38;5;28;01mexcept\u001b[39;00m \u001b[38;5;167;01mImportError\u001b[39;00m \u001b[38;5;28;01mas\u001b[39;00m e:\n",
      "\u001b[1;31mModuleNotFoundError\u001b[0m: No module named 'onnx'",
      "\nThe above exception was the direct cause of the following exception:\n",
      "\u001b[1;31mOnnxExporterError\u001b[0m                         Traceback (most recent call last)",
      "Cell \u001b[1;32mIn[164], line 4\u001b[0m\n\u001b[0;32m      1\u001b[0m \u001b[38;5;66;03m# cell 50\u001b[39;00m\n\u001b[0;32m      2\u001b[0m \u001b[38;5;66;03m# loaded_model = torch.load(\"quantized_model.pth\")\u001b[39;00m\n\u001b[0;32m      3\u001b[0m dummy_input \u001b[38;5;241m=\u001b[39m torch\u001b[38;5;241m.\u001b[39mrandn(\u001b[38;5;241m1\u001b[39m, \u001b[38;5;241m1\u001b[39m, \u001b[38;5;241m28\u001b[39m, \u001b[38;5;241m28\u001b[39m)\u001b[38;5;241m.\u001b[39mto(device)\n\u001b[1;32m----> 4\u001b[0m \u001b[43mtorch\u001b[49m\u001b[38;5;241;43m.\u001b[39;49m\u001b[43monnx\u001b[49m\u001b[38;5;241;43m.\u001b[39;49m\u001b[43mexport\u001b[49m\u001b[43m(\u001b[49m\u001b[43mmodel\u001b[49m\u001b[38;5;241;43m.\u001b[39;49m\u001b[43mto\u001b[49m\u001b[43m(\u001b[49m\u001b[43mdevice\u001b[49m\u001b[43m)\u001b[49m\u001b[43m,\u001b[49m\u001b[43m \u001b[49m\u001b[43mdummy_input\u001b[49m\u001b[43m,\u001b[49m\u001b[43m \u001b[49m\u001b[38;5;124;43m\"\u001b[39;49m\u001b[38;5;124;43mquantized_model.onnx\u001b[39;49m\u001b[38;5;124;43m\"\u001b[39;49m\u001b[43m)\u001b[49m  \n",
      "File \u001b[1;32mc:\\Users\\ramme\\AppData\\Local\\Programs\\Python\\Python310\\lib\\site-packages\\torch\\onnx\\utils.py:516\u001b[0m, in \u001b[0;36mexport\u001b[1;34m(model, args, f, export_params, verbose, training, input_names, output_names, operator_export_type, opset_version, do_constant_folding, dynamic_axes, keep_initializers_as_inputs, custom_opsets, export_modules_as_functions, autograd_inlining)\u001b[0m\n\u001b[0;32m    189\u001b[0m \u001b[38;5;129m@_beartype\u001b[39m\u001b[38;5;241m.\u001b[39mbeartype\n\u001b[0;32m    190\u001b[0m \u001b[38;5;28;01mdef\u001b[39;00m \u001b[38;5;21mexport\u001b[39m(\n\u001b[0;32m    191\u001b[0m     model: Union[torch\u001b[38;5;241m.\u001b[39mnn\u001b[38;5;241m.\u001b[39mModule, torch\u001b[38;5;241m.\u001b[39mjit\u001b[38;5;241m.\u001b[39mScriptModule, torch\u001b[38;5;241m.\u001b[39mjit\u001b[38;5;241m.\u001b[39mScriptFunction],\n\u001b[1;32m   (...)\u001b[0m\n\u001b[0;32m    208\u001b[0m     autograd_inlining: Optional[\u001b[38;5;28mbool\u001b[39m] \u001b[38;5;241m=\u001b[39m \u001b[38;5;28;01mTrue\u001b[39;00m,\n\u001b[0;32m    209\u001b[0m ) \u001b[38;5;241m-\u001b[39m\u001b[38;5;241m>\u001b[39m \u001b[38;5;28;01mNone\u001b[39;00m:\n\u001b[0;32m    210\u001b[0m \u001b[38;5;250m    \u001b[39m\u001b[38;5;124mr\u001b[39m\u001b[38;5;124;03m\"\"\"Exports a model into ONNX format.\u001b[39;00m\n\u001b[0;32m    211\u001b[0m \n\u001b[0;32m    212\u001b[0m \u001b[38;5;124;03m    If ``model`` is not a :class:`torch.jit.ScriptModule` nor a\u001b[39;00m\n\u001b[1;32m   (...)\u001b[0m\n\u001b[0;32m    513\u001b[0m \u001b[38;5;124;03m            All errors are subclasses of :class:`errors.OnnxExporterError`.\u001b[39;00m\n\u001b[0;32m    514\u001b[0m \u001b[38;5;124;03m    \"\"\"\u001b[39;00m\n\u001b[1;32m--> 516\u001b[0m     \u001b[43m_export\u001b[49m\u001b[43m(\u001b[49m\n\u001b[0;32m    517\u001b[0m \u001b[43m        \u001b[49m\u001b[43mmodel\u001b[49m\u001b[43m,\u001b[49m\n\u001b[0;32m    518\u001b[0m \u001b[43m        \u001b[49m\u001b[43margs\u001b[49m\u001b[43m,\u001b[49m\n\u001b[0;32m    519\u001b[0m \u001b[43m        \u001b[49m\u001b[43mf\u001b[49m\u001b[43m,\u001b[49m\n\u001b[0;32m    520\u001b[0m \u001b[43m        \u001b[49m\u001b[43mexport_params\u001b[49m\u001b[43m,\u001b[49m\n\u001b[0;32m    521\u001b[0m \u001b[43m        \u001b[49m\u001b[43mverbose\u001b[49m\u001b[43m,\u001b[49m\n\u001b[0;32m    522\u001b[0m \u001b[43m        \u001b[49m\u001b[43mtraining\u001b[49m\u001b[43m,\u001b[49m\n\u001b[0;32m    523\u001b[0m \u001b[43m        \u001b[49m\u001b[43minput_names\u001b[49m\u001b[43m,\u001b[49m\n\u001b[0;32m    524\u001b[0m \u001b[43m        \u001b[49m\u001b[43moutput_names\u001b[49m\u001b[43m,\u001b[49m\n\u001b[0;32m    525\u001b[0m \u001b[43m        \u001b[49m\u001b[43moperator_export_type\u001b[49m\u001b[38;5;241;43m=\u001b[39;49m\u001b[43moperator_export_type\u001b[49m\u001b[43m,\u001b[49m\n\u001b[0;32m    526\u001b[0m \u001b[43m        \u001b[49m\u001b[43mopset_version\u001b[49m\u001b[38;5;241;43m=\u001b[39;49m\u001b[43mopset_version\u001b[49m\u001b[43m,\u001b[49m\n\u001b[0;32m    527\u001b[0m \u001b[43m        \u001b[49m\u001b[43mdo_constant_folding\u001b[49m\u001b[38;5;241;43m=\u001b[39;49m\u001b[43mdo_constant_folding\u001b[49m\u001b[43m,\u001b[49m\n\u001b[0;32m    528\u001b[0m \u001b[43m        \u001b[49m\u001b[43mdynamic_axes\u001b[49m\u001b[38;5;241;43m=\u001b[39;49m\u001b[43mdynamic_axes\u001b[49m\u001b[43m,\u001b[49m\n\u001b[0;32m    529\u001b[0m \u001b[43m        \u001b[49m\u001b[43mkeep_initializers_as_inputs\u001b[49m\u001b[38;5;241;43m=\u001b[39;49m\u001b[43mkeep_initializers_as_inputs\u001b[49m\u001b[43m,\u001b[49m\n\u001b[0;32m    530\u001b[0m \u001b[43m        \u001b[49m\u001b[43mcustom_opsets\u001b[49m\u001b[38;5;241;43m=\u001b[39;49m\u001b[43mcustom_opsets\u001b[49m\u001b[43m,\u001b[49m\n\u001b[0;32m    531\u001b[0m \u001b[43m        \u001b[49m\u001b[43mexport_modules_as_functions\u001b[49m\u001b[38;5;241;43m=\u001b[39;49m\u001b[43mexport_modules_as_functions\u001b[49m\u001b[43m,\u001b[49m\n\u001b[0;32m    532\u001b[0m \u001b[43m        \u001b[49m\u001b[43mautograd_inlining\u001b[49m\u001b[38;5;241;43m=\u001b[39;49m\u001b[43mautograd_inlining\u001b[49m\u001b[43m,\u001b[49m\n\u001b[0;32m    533\u001b[0m \u001b[43m    \u001b[49m\u001b[43m)\u001b[49m\n",
      "File \u001b[1;32mc:\\Users\\ramme\\AppData\\Local\\Programs\\Python\\Python310\\lib\\site-packages\\torch\\onnx\\utils.py:1686\u001b[0m, in \u001b[0;36m_export\u001b[1;34m(model, args, f, export_params, verbose, training, input_names, output_names, operator_export_type, export_type, opset_version, do_constant_folding, dynamic_axes, keep_initializers_as_inputs, fixed_batch_size, custom_opsets, add_node_names, onnx_shape_inference, export_modules_as_functions, autograd_inlining)\u001b[0m\n\u001b[0;32m   1667\u001b[0m     (\n\u001b[0;32m   1668\u001b[0m         proto,\n\u001b[0;32m   1669\u001b[0m         export_map,\n\u001b[1;32m   (...)\u001b[0m\n\u001b[0;32m   1683\u001b[0m         node_attr_to_name,\n\u001b[0;32m   1684\u001b[0m     )\n\u001b[0;32m   1685\u001b[0m \u001b[38;5;66;03m# insert function_proto into model_proto.\u001b[39;00m\n\u001b[1;32m-> 1686\u001b[0m proto \u001b[38;5;241m=\u001b[39m \u001b[43monnx_proto_utils\u001b[49m\u001b[38;5;241;43m.\u001b[39;49m\u001b[43m_add_onnxscript_fn\u001b[49m\u001b[43m(\u001b[49m\n\u001b[0;32m   1687\u001b[0m \u001b[43m    \u001b[49m\u001b[43mproto\u001b[49m\u001b[43m,\u001b[49m\n\u001b[0;32m   1688\u001b[0m \u001b[43m    \u001b[49m\u001b[43mcustom_opsets\u001b[49m\u001b[43m,\u001b[49m\n\u001b[0;32m   1689\u001b[0m \u001b[43m\u001b[49m\u001b[43m)\u001b[49m\n\u001b[0;32m   1690\u001b[0m \u001b[38;5;28;01mif\u001b[39;00m verbose:\n\u001b[0;32m   1691\u001b[0m     torch\u001b[38;5;241m.\u001b[39monnx\u001b[38;5;241m.\u001b[39mlog(\u001b[38;5;124m\"\u001b[39m\u001b[38;5;124mExported graph: \u001b[39m\u001b[38;5;124m\"\u001b[39m, graph)\n",
      "File \u001b[1;32mc:\\Users\\ramme\\AppData\\Local\\Programs\\Python\\Python310\\lib\\site-packages\\torch\\onnx\\_internal\\onnx_proto_utils.py:221\u001b[0m, in \u001b[0;36m_add_onnxscript_fn\u001b[1;34m(model_bytes, custom_opsets)\u001b[0m\n\u001b[0;32m    219\u001b[0m     \u001b[38;5;28;01mimport\u001b[39;00m \u001b[38;5;21;01monnx\u001b[39;00m\n\u001b[0;32m    220\u001b[0m \u001b[38;5;28;01mexcept\u001b[39;00m \u001b[38;5;167;01mImportError\u001b[39;00m \u001b[38;5;28;01mas\u001b[39;00m e:\n\u001b[1;32m--> 221\u001b[0m     \u001b[38;5;28;01mraise\u001b[39;00m errors\u001b[38;5;241m.\u001b[39mOnnxExporterError(\u001b[38;5;124m\"\u001b[39m\u001b[38;5;124mModule onnx is not installed!\u001b[39m\u001b[38;5;124m\"\u001b[39m) \u001b[38;5;28;01mfrom\u001b[39;00m \u001b[38;5;21;01me\u001b[39;00m\n\u001b[0;32m    223\u001b[0m \u001b[38;5;66;03m# For > 2GB model, onnx.load_fromstring would fail. However, because\u001b[39;00m\n\u001b[0;32m    224\u001b[0m \u001b[38;5;66;03m# in _export_onnx, the tensors should be saved separately if the proto\u001b[39;00m\n\u001b[0;32m    225\u001b[0m \u001b[38;5;66;03m# size > 2GB, and if it for some reason did not, the model would fail on\u001b[39;00m\n\u001b[0;32m    226\u001b[0m \u001b[38;5;66;03m# serialization anyway in terms of the protobuf limitation. So we don't\u001b[39;00m\n\u001b[0;32m    227\u001b[0m \u001b[38;5;66;03m# need to worry about > 2GB model getting here.\u001b[39;00m\n\u001b[0;32m    228\u001b[0m model_proto \u001b[38;5;241m=\u001b[39m onnx\u001b[38;5;241m.\u001b[39mload_model_from_string(model_bytes)  \u001b[38;5;66;03m# type: ignore[attr-defined]\u001b[39;00m\n",
      "\u001b[1;31mOnnxExporterError\u001b[0m: Module onnx is not installed!"
     ]
    }
   ],
   "source": [
    "# cell 50\n",
    "# loaded_model = torch.load(\"quantized_model.pth\")\n",
    "dummy_input = torch.randn(1, 1, 28, 28).to(device)\n",
    "torch.onnx.export(model.to(device), dummy_input, \"quantized_model.onnx\")  "
   ]
  },
  {
   "cell_type": "code",
   "execution_count": null,
   "metadata": {},
   "outputs": [],
   "source": [
    "# cell 51\n",
    "import onnxruntime as ort\n",
    "\n",
    "EP_list = ['CPUExecutionProvider']\n",
    "ort_sess = ort.InferenceSession(\"quantized_model.onnx\", providers=EP_list)\n",
    "input_name = ort_sess.get_inputs()[0].name\n",
    "\n",
    "image, label = test_data[0]\n",
    "input_data = np.expand_dims(image, axis=0)\n",
    "outputs = ort_sess.run(None, {input_name: input_data})[0]\n",
    "prediction_index = outputs.argmax().item()\n",
    "print(\"Label: \", label)\n",
    "print(\"Predicted: \", prediction_index)"
   ]
  },
  {
   "cell_type": "markdown",
   "metadata": {},
   "source": [
    "## Assignment\n",
    "* Implement the MLP for FashionMNIST Dataset Using [Pytorch-Ignite](https://pytorch-ignite.ai/tutorials/beginner/01-getting-started/)"
   ]
  }
 ],
 "metadata": {
  "kernelspec": {
   "display_name": "soccer-analytics",
   "language": "python",
   "name": "python3"
  },
  "language_info": {
   "codemirror_mode": {
    "name": "ipython",
    "version": 3
   },
   "file_extension": ".py",
   "mimetype": "text/x-python",
   "name": "python",
   "nbconvert_exporter": "python",
   "pygments_lexer": "ipython3",
   "version": "3.10.0"
  }
 },
 "nbformat": 4,
 "nbformat_minor": 2
}
